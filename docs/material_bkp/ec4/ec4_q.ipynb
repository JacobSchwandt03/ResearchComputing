{
 "cells": [
  {
   "cell_type": "markdown",
   "metadata": {},
   "source": [
    "# Audio scattering classification\n",
    "\n",
    "In this example class, you implement a classifier of sounds based on the wavelet scattering transform coefficients (see [lecture notes](https://researchcomputing.readthedocs.io/en/latest/material/part12/notebook.html#Wavelet-Scattering-Transform)).\n",
    "\n"
   ]
  },
  {
   "cell_type": "markdown",
   "metadata": {},
   "source": [
    "## Question 1\n",
    "\n",
    "What is a wavelet? What is a filter bank? What is a wavelet scattering transform coefficient?"
   ]
  },
  {
   "cell_type": "markdown",
   "metadata": {},
   "source": [
    "## Question 2\n",
    "\n",
    "Install [kymatio](https://github.com/kymatio/kymatio).\n",
    "\n",
    "Chose the following values for our wavelet parameters:\n",
    "\n",
    "- `T=8192`\n",
    "- `J=6`\n",
    "- `Q=(16,16)`\n",
    "\n",
    "\n",
    "Using the `scattering_filter_factory` method of `kymatio.scattering1d.filter_bank`, load the filter bank corresponding to these parameters.\n",
    "\n",
    "The method is defined [here](https://github.com/kymatio/kymatio/blob/11552ed5533d566e6c60d77eecccb37dfb229dec/kymatio/scattering1d/filter_bank.py#L322).\n",
    "\n",
    "And the docstring reads:\n",
    "\n",
    "```\n",
    "    Builds in Fourier the Morlet filters used for the scattering transform.\n",
    "\n",
    "    Each single filter is provided as a dictionary with the following keys:\n",
    "    * 'xi': normalized center frequency, where 0.5 corresponds to Nyquist.\n",
    "    * 'sigma': normalized bandwidth in the Fourier.\n",
    "    * 'j': log2 of downsampling factor after filtering. j=0 means no downsampling,\n",
    "        j=1 means downsampling by one half, etc.\n",
    "    * 'levels': list of NumPy arrays containing the filter at various levels\n",
    "        of downsampling. levels[0] is at full resolution, levels[1] at half\n",
    "        resolution, etc.\n",
    "\n",
    "    Parameters\n",
    "    ----------\n",
    "    N : int\n",
    "        padded length of the input signal. Corresponds to self._N_padded for the\n",
    "        scattering object.\n",
    "    J : int\n",
    "        log-scale of the scattering transform, such that wavelets of both\n",
    "        filterbanks have a maximal support that is proportional to 2**J.\n",
    "    Q : tuple\n",
    "        number of wavelets per octave at the first and second order\n",
    "        Q = (Q1, Q2). Q1 and Q2 are both int >= 1.\n",
    "    T : int\n",
    "        temporal support of low-pass filter, controlling amount of imposed\n",
    "        time-shift invariance and maximum subsampling\n",
    "    filterbank : tuple (callable filterbank_fn, dict filterbank_kwargs)\n",
    "        filterbank_fn should take J and Q as positional arguments and\n",
    "        **filterbank_kwargs as optional keyword arguments.\n",
    "        Corresponds to the self.filterbank property of the scattering object.\n",
    "        As of v0.3, only anden_generator is supported as filterbank_fn.\n",
    "    _reduction : callable\n",
    "        either np.sum (default) or np.mean.\n",
    "\n",
    "    Returns\n",
    "    -------\n",
    "    phi_f, psi1_f, psi2_f ... : dictionaries\n",
    "        phi_f corresponds to the low-pass filter and psi1_f, psi2_f, to the\n",
    "        wavelet filterbanks at layers 1 and 2 respectively.\n",
    "        See above for a description of the dictionary structure.\n",
    "```"
   ]
  },
  {
   "cell_type": "markdown",
   "metadata": {},
   "source": [
    "## Question 3\n",
    "\n",
    "Plot the first-order wavelets at original resolution (i.e., $T$ samples) in the frequency domain.\n",
    "\n",
    "Do an interactive plot for all 63 first-order wavelets in the bank.\n",
    "\n",
    "Use log-scale for the frequency axis, what do you observe?\n",
    "\n"
   ]
  },
  {
   "cell_type": "markdown",
   "metadata": {},
   "source": [
    "## Question 4\n",
    "\n",
    "Do a similar plot, but now in the time domain, using the inverse FFT."
   ]
  },
  {
   "cell_type": "markdown",
   "metadata": {},
   "source": [
    "## Question 5\n",
    "\n",
    "Show the second order wavelets at original resolution in the time domain.\n",
    "\n",
    "What do you observe?\n"
   ]
  },
  {
   "cell_type": "markdown",
   "metadata": {},
   "source": [
    "## Question 6"
   ]
  },
  {
   "cell_type": "markdown",
   "metadata": {},
   "source": [
    "Fetch the spoken digit data and plot the goerge time series for digit 0 in an interactive plot.\n",
    "\n",
    "To fetch the data you can use:\n",
    "\n",
    "```python\n",
    "from kymatio.datasets import fetch_fsdd\n",
    "info_dataset = fetch_fsdd(verbose=True)\n",
    "```\n",
    "\n",
    "Then you can access the data via the `info_dataset` object and read the wav files with `scipy.io.wavfile.read`."
   ]
  },
  {
   "cell_type": "markdown",
   "metadata": {},
   "source": [
    "## Question 7\n",
    "\n",
    "What is the time duration of these signals? Give your answer simply as a number of time samples. \n",
    "\n",
    "Is it constant for all recordings?\n",
    "\n",
    "What is the duration of the signal `0_george_0.wav`?\n",
    "\n",
    "Store the signal in a variable `x`."
   ]
  },
  {
   "cell_type": "markdown",
   "metadata": {},
   "source": [
    "## Question 8\n",
    "\n",
    "We now compute the scattering transform of `0_george_0.wav`.\n",
    "\n",
    "To do so, use the method `Scattering1D` from `kymatio.torch`. Instantiate it via:\n",
    "\n",
    "```python\n",
    "scattering = Scattering1D(J, T, Q)\n",
    "```\n",
    "\n",
    "Chose $J=6$ and $Q=16$ (here $Q$ is not a tuple, just a single integer).\n",
    "\n",
    "\n",
    "What do $J$ and $Q$ control?\n",
    "\n",
    "\n",
    "Before computing the scattering transform, we need first to convert the array into a torch tensor and then normalize the signal `x` with `max` so it varies between -1 and 1.\n",
    "\n",
    "\n",
    "Then, compute the scattering transform of `x` via:\n",
    "\n",
    "```python\n",
    "Sx = scattering(x)\n",
    "```\n",
    "\n",
    "What is the shape of `Sx`? What does each dimension represent?\n",
    "\n"
   ]
  },
  {
   "cell_type": "markdown",
   "metadata": {},
   "source": [
    "## Question 9\n",
    "\n",
    "How many scattering coefficients are there in total? How many coefficients of order 0, 1 and 2?\n",
    "\n",
    "You can access the metadata of the scattering object via `scattering.meta`, and the `order` information by looking at the `order` key.\n",
    "\n",
    "\n"
   ]
  },
  {
   "cell_type": "markdown",
   "metadata": {},
   "source": [
    "## Question 10\n",
    "\n",
    "Plot the zeroth-order scattering coefficient, both in a 1d plot and also in an `imshow` plot as a vector. "
   ]
  },
  {
   "cell_type": "markdown",
   "metadata": {},
   "source": [
    "## Question 11\n",
    "\n",
    "Plot the first-order scattering coefficients, both in a 1d plot and also in an `imshow` plot as a matrix.\n",
    "\n",
    "What is the name of the image plot?\n"
   ]
  },
  {
   "cell_type": "markdown",
   "metadata": {},
   "source": [
    "## Question 12\n",
    "\n",
    "Plot the second-order scattering coefficients, both in a 1d plot and also in an `imshow` plot as a matrix.\n"
   ]
  },
  {
   "cell_type": "markdown",
   "metadata": {},
   "source": [
    "## Question 13\n",
    "\n",
    "Using all the  signals in the dataset, test the performance of a logistic regression classifier based on average wavelet scattering coefficients as features.\n",
    "\n",
    "In the datset, index larger than 5 gets assigned to training set, and the rest to test set (i.e., a 90-10 split).\n",
    "\n",
    "For the scattering transform, store the data in $T=2^{13}$ samples (i.e., 8192), use $J=8$ and $Q=12$.\n",
    "\n",
    "The features should be the wavelet scattering coefficients averaged over time, i.e., over all the $2^8$ time points.\n",
    "\n",
    "\n",
    "For the model, you can use:\n",
    "\n",
    "```python\n",
    "model = Sequential(Linear(num_input, num_classes), LogSoftmax(dim=1))\n",
    "optimizer = Adam(model.parameters())\n",
    "criterion = NLLLoss()\n",
    "```\n"
   ]
  }
 ],
 "metadata": {
  "kernelspec": {
   "display_name": "base",
   "language": "python",
   "name": "python3"
  },
  "language_info": {
   "codemirror_mode": {
    "name": "ipython",
    "version": 3
   },
   "file_extension": ".py",
   "mimetype": "text/x-python",
   "name": "python",
   "nbconvert_exporter": "python",
   "pygments_lexer": "ipython3",
   "version": "3.9.13"
  }
 },
 "nbformat": 4,
 "nbformat_minor": 2
}
