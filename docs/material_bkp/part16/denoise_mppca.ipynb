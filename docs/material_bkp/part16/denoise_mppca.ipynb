{
 "cells": [
  {
   "cell_type": "markdown",
   "metadata": {},
   "source": [
    "\n",
    "# Denoise images using the Marcenko-Pastur PCA algorithm\n",
    "\n",
    "The PCA-based denoising algorithm exploits the redundancy across the\n",
    "diffusion-weighted images [Manjon2013]_, [Veraart2016a]_. This algorithm has\n",
    "been shown to provide an optimal compromise between noise suppression and loss\n",
    "of anatomical information for different techniques such as DTI [Manjon2013]_,\n",
    "spherical deconvolution [Veraart2016a] and DKI [Henri2018]_.\n",
    "\n",
    "The basic idea behind the PCA-based denoising algorithms is to remove the\n",
    "components of the data that are classified as noise. The Principal Components\n",
    "classification can be performed based on prior noise variance estimates\n",
    "[Manjon2013]_\n",
    "(see `denoise_localpca<sphx_glr_examples_built_preprocessing_denoise_localpca.py>`)  # noqa E501\n",
    "or automatically based on the Marchenko-Pastur distribution [Veraa2016a]_.\n",
    "In addition to noise suppression, the PCA algorithm can be used to get the\n",
    "standard deviation of the noise [Veraa2016b]_.\n",
    "\n",
    "In the following example, we show how to denoise diffusion MRI images and\n",
    "estimate the noise standard deviation using the PCA algorithm based\n",
    "on the Marcenko-Pastur distribution [Veraa2016a]\n",
    "\n",
    "Let's load the necessary modules\n"
   ]
  },
  {
   "cell_type": "code",
   "execution_count": 6,
   "metadata": {
    "collapsed": false,
    "jupyter": {
     "outputs_hidden": false
    }
   },
   "outputs": [],
   "source": [
    "# load general modules\n",
    "import numpy as np\n",
    "import matplotlib.pyplot as plt\n",
    "from time import time\n",
    "\n",
    "# load main pca function using Marcenko-Pastur distribution\n",
    "from dipy.denoise.localpca import mppca\n",
    "\n",
    "# load functions to fetch data for this example\n",
    "from dipy.data import get_fnames\n",
    "\n",
    "# load other dipy's functions that will be used for auxiliary analysis\n",
    "from dipy.core.gradients import gradient_table\n",
    "from dipy.io.image import load_nifti, save_nifti\n",
    "from dipy.io.gradients import read_bvals_bvecs\n",
    "from dipy.segment.mask import median_otsu\n",
    "import dipy.reconst.dki as dki"
   ]
  },
  {
   "cell_type": "markdown",
   "metadata": {},
   "source": [
    "For this example, we use fetch to download a multi-shell dataset which was\n",
    "kindly provided by Hansen and Jespersen (more details about the data are\n",
    "provided in their paper [Hansen2016]_). The total size of the downloaded data\n",
    "is 192 MBytes, however you only need to fetch it once.\n",
    "\n"
   ]
  },
  {
   "cell_type": "code",
   "execution_count": 7,
   "metadata": {
    "collapsed": false,
    "jupyter": {
     "outputs_hidden": false
    }
   },
   "outputs": [],
   "source": [
    "dwi_fname, dwi_bval_fname, dwi_bvec_fname, _ = get_fnames('cfin_multib')\n",
    "data, affine = load_nifti(dwi_fname)\n",
    "bvals, bvecs = read_bvals_bvecs(dwi_bval_fname, dwi_bvec_fname)\n",
    "gtab = gradient_table(bvals, bvecs)"
   ]
  },
  {
   "cell_type": "markdown",
   "metadata": {},
   "source": [
    "For the sake of simplicity, we only select two non-zero b-values for this\n",
    "example.\n",
    "\n"
   ]
  },
  {
   "cell_type": "code",
   "execution_count": 8,
   "metadata": {
    "collapsed": false,
    "jupyter": {
     "outputs_hidden": false
    }
   },
   "outputs": [
    {
     "name": "stdout",
     "output_type": "stream",
     "text": [
      "(96, 96, 19, 67)\n"
     ]
    }
   ],
   "source": [
    "bvals = gtab.bvals\n",
    "\n",
    "bvecs = gtab.bvecs\n",
    "\n",
    "sel_b = np.logical_or(np.logical_or(bvals == 0, bvals == 1000), bvals == 2000)\n",
    "\n",
    "data = data[..., sel_b]\n",
    "\n",
    "gtab = gradient_table(bvals[sel_b], bvecs[sel_b])\n",
    "\n",
    "print(data.shape)"
   ]
  },
  {
   "cell_type": "code",
   "execution_count": 13,
   "metadata": {},
   "outputs": [],
   "source": [
    "# data\n",
    "# sel_b"
   ]
  },
  {
   "cell_type": "code",
   "execution_count": 14,
   "metadata": {},
   "outputs": [
    {
     "data": {
      "text/plain": [
       "496"
      ]
     },
     "execution_count": 14,
     "metadata": {},
     "output_type": "execute_result"
    }
   ],
   "source": [
    "len(bvals)"
   ]
  },
  {
   "cell_type": "markdown",
   "metadata": {},
   "source": [
    "As one can see from its shape, the selected data contains a total of 67\n",
    "volumes of images corresponding to all the diffusion gradient directions\n",
    "of the selected b-values.\n",
    "\n",
    "The PCA denoising using the Marchenko-Pastur distribution can be performed by\n",
    "calling the function ``mppca``:\n",
    "\n"
   ]
  },
  {
   "cell_type": "code",
   "execution_count": 5,
   "metadata": {
    "collapsed": false,
    "jupyter": {
     "outputs_hidden": false
    }
   },
   "outputs": [
    {
     "ename": "KeyboardInterrupt",
     "evalue": "",
     "output_type": "error",
     "traceback": [
      "\u001b[0;31m---------------------------------------------------------------------------\u001b[0m",
      "\u001b[0;31mKeyboardInterrupt\u001b[0m                         Traceback (most recent call last)",
      "Cell \u001b[0;32mIn [5], line 3\u001b[0m\n\u001b[1;32m      1\u001b[0m t \u001b[38;5;241m=\u001b[39m time()\n\u001b[0;32m----> 3\u001b[0m denoised_arr \u001b[38;5;241m=\u001b[39m \u001b[43mmppca\u001b[49m\u001b[43m(\u001b[49m\u001b[43mdata\u001b[49m\u001b[43m,\u001b[49m\u001b[43m \u001b[49m\u001b[43mpatch_radius\u001b[49m\u001b[38;5;241;43m=\u001b[39;49m\u001b[38;5;241;43m2\u001b[39;49m\u001b[43m)\u001b[49m\n\u001b[1;32m      5\u001b[0m \u001b[38;5;28mprint\u001b[39m(\u001b[38;5;124m\"\u001b[39m\u001b[38;5;124mTime taken for local MP-PCA \u001b[39m\u001b[38;5;124m\"\u001b[39m, \u001b[38;5;241m-\u001b[39mt \u001b[38;5;241m+\u001b[39m time())\n",
      "File \u001b[0;32m~/opt/miniconda3/lib/python3.9/site-packages/dipy/denoise/localpca.py:534\u001b[0m, in \u001b[0;36mmppca\u001b[0;34m(arr, mask, patch_radius, pca_method, return_sigma, out_dtype, suppress_warning)\u001b[0m\n\u001b[1;32m    485\u001b[0m \u001b[38;5;28;01mdef\u001b[39;00m \u001b[38;5;21mmppca\u001b[39m(arr, mask\u001b[38;5;241m=\u001b[39m\u001b[38;5;28;01mNone\u001b[39;00m, patch_radius\u001b[38;5;241m=\u001b[39m\u001b[38;5;241m2\u001b[39m, pca_method\u001b[38;5;241m=\u001b[39m\u001b[38;5;124m'\u001b[39m\u001b[38;5;124meig\u001b[39m\u001b[38;5;124m'\u001b[39m,\n\u001b[1;32m    486\u001b[0m           return_sigma\u001b[38;5;241m=\u001b[39m\u001b[38;5;28;01mFalse\u001b[39;00m, out_dtype\u001b[38;5;241m=\u001b[39m\u001b[38;5;28;01mNone\u001b[39;00m, suppress_warning\u001b[38;5;241m=\u001b[39m\u001b[38;5;28;01mFalse\u001b[39;00m):\n\u001b[1;32m    487\u001b[0m \u001b[38;5;250m    \u001b[39m\u001b[38;5;124mr\u001b[39m\u001b[38;5;124;03m\"\"\"Performs PCA-based denoising using the Marcenko-Pastur\u001b[39;00m\n\u001b[1;32m    488\u001b[0m \u001b[38;5;124;03m    distribution [1]_.\u001b[39;00m\n\u001b[1;32m    489\u001b[0m \n\u001b[0;32m   (...)\u001b[0m\n\u001b[1;32m    532\u001b[0m \u001b[38;5;124;03m           doi: 10.1002/mrm.26059.\u001b[39;00m\n\u001b[1;32m    533\u001b[0m \u001b[38;5;124;03m    \"\"\"\u001b[39;00m\n\u001b[0;32m--> 534\u001b[0m     \u001b[38;5;28;01mreturn\u001b[39;00m \u001b[43mgenpca\u001b[49m\u001b[43m(\u001b[49m\u001b[43marr\u001b[49m\u001b[43m,\u001b[49m\u001b[43m \u001b[49m\u001b[43msigma\u001b[49m\u001b[38;5;241;43m=\u001b[39;49m\u001b[38;5;28;43;01mNone\u001b[39;49;00m\u001b[43m,\u001b[49m\u001b[43m \u001b[49m\u001b[43mmask\u001b[49m\u001b[38;5;241;43m=\u001b[39;49m\u001b[43mmask\u001b[49m\u001b[43m,\u001b[49m\u001b[43m \u001b[49m\u001b[43mpatch_radius\u001b[49m\u001b[38;5;241;43m=\u001b[39;49m\u001b[43mpatch_radius\u001b[49m\u001b[43m,\u001b[49m\n\u001b[1;32m    535\u001b[0m \u001b[43m                  \u001b[49m\u001b[43mpca_method\u001b[49m\u001b[38;5;241;43m=\u001b[39;49m\u001b[43mpca_method\u001b[49m\u001b[43m,\u001b[49m\u001b[43m \u001b[49m\u001b[43mtau_factor\u001b[49m\u001b[38;5;241;43m=\u001b[39;49m\u001b[38;5;28;43;01mNone\u001b[39;49;00m\u001b[43m,\u001b[49m\n\u001b[1;32m    536\u001b[0m \u001b[43m                  \u001b[49m\u001b[43mreturn_sigma\u001b[49m\u001b[38;5;241;43m=\u001b[39;49m\u001b[43mreturn_sigma\u001b[49m\u001b[43m,\u001b[49m\u001b[43m \u001b[49m\u001b[43mout_dtype\u001b[49m\u001b[38;5;241;43m=\u001b[39;49m\u001b[43mout_dtype\u001b[49m\u001b[43m,\u001b[49m\n\u001b[1;32m    537\u001b[0m \u001b[43m                  \u001b[49m\u001b[43msuppress_warning\u001b[49m\u001b[38;5;241;43m=\u001b[39;49m\u001b[43msuppress_warning\u001b[49m\u001b[43m)\u001b[49m\n",
      "File \u001b[0;32m~/opt/miniconda3/lib/python3.9/site-packages/dipy/denoise/localpca.py:350\u001b[0m, in \u001b[0;36mgenpca\u001b[0;34m(arr, sigma, mask, patch_radius, pca_method, tau_factor, return_sigma, out_dtype, suppress_warning)\u001b[0m\n\u001b[1;32m    348\u001b[0m     C \u001b[38;5;241m=\u001b[39m np\u001b[38;5;241m.\u001b[39mtranspose(X)\u001b[38;5;241m.\u001b[39mdot(X)\n\u001b[1;32m    349\u001b[0m     C \u001b[38;5;241m=\u001b[39m C \u001b[38;5;241m/\u001b[39m X\u001b[38;5;241m.\u001b[39mshape[\u001b[38;5;241m0\u001b[39m]\n\u001b[0;32m--> 350\u001b[0m     [d, W] \u001b[38;5;241m=\u001b[39m \u001b[43meigh\u001b[49m\u001b[43m(\u001b[49m\u001b[43mC\u001b[49m\u001b[43m)\u001b[49m\n\u001b[1;32m    352\u001b[0m \u001b[38;5;28;01mif\u001b[39;00m sigma \u001b[38;5;129;01mis\u001b[39;00m \u001b[38;5;28;01mNone\u001b[39;00m:\n\u001b[1;32m    353\u001b[0m     \u001b[38;5;66;03m# Random matrix theory\u001b[39;00m\n\u001b[1;32m    354\u001b[0m     this_var, _ \u001b[38;5;241m=\u001b[39m _pca_classifier(d, num_samples)\n",
      "File \u001b[0;32m~/opt/miniconda3/lib/python3.9/site-packages/scipy/_lib/deprecation.py:213\u001b[0m, in \u001b[0;36m_deprecate_positional_args.<locals>._inner_deprecate_positional_args.<locals>.inner_f\u001b[0;34m(*args, **kwargs)\u001b[0m\n\u001b[1;32m    211\u001b[0m extra_args \u001b[38;5;241m=\u001b[39m \u001b[38;5;28mlen\u001b[39m(args) \u001b[38;5;241m-\u001b[39m \u001b[38;5;28mlen\u001b[39m(all_args)\n\u001b[1;32m    212\u001b[0m \u001b[38;5;28;01mif\u001b[39;00m extra_args \u001b[38;5;241m<\u001b[39m\u001b[38;5;241m=\u001b[39m \u001b[38;5;241m0\u001b[39m:\n\u001b[0;32m--> 213\u001b[0m     \u001b[38;5;28;01mreturn\u001b[39;00m \u001b[43mf\u001b[49m\u001b[43m(\u001b[49m\u001b[38;5;241;43m*\u001b[39;49m\u001b[43margs\u001b[49m\u001b[43m,\u001b[49m\u001b[43m \u001b[49m\u001b[38;5;241;43m*\u001b[39;49m\u001b[38;5;241;43m*\u001b[39;49m\u001b[43mkwargs\u001b[49m\u001b[43m)\u001b[49m\n\u001b[1;32m    215\u001b[0m \u001b[38;5;66;03m# extra_args > 0\u001b[39;00m\n\u001b[1;32m    216\u001b[0m args_msg \u001b[38;5;241m=\u001b[39m [\n\u001b[1;32m    217\u001b[0m     \u001b[38;5;124mf\u001b[39m\u001b[38;5;124m\"\u001b[39m\u001b[38;5;132;01m{\u001b[39;00mname\u001b[38;5;132;01m}\u001b[39;00m\u001b[38;5;124m=\u001b[39m\u001b[38;5;132;01m{\u001b[39;00marg\u001b[38;5;132;01m}\u001b[39;00m\u001b[38;5;124m\"\u001b[39m\n\u001b[1;32m    218\u001b[0m     \u001b[38;5;28;01mfor\u001b[39;00m name, arg \u001b[38;5;129;01min\u001b[39;00m \u001b[38;5;28mzip\u001b[39m(kwonly_args[:extra_args], args[\u001b[38;5;241m-\u001b[39mextra_args:])\n\u001b[1;32m    219\u001b[0m ]\n",
      "File \u001b[0;32m~/opt/miniconda3/lib/python3.9/site-packages/scipy/linalg/_decomp.py:560\u001b[0m, in \u001b[0;36meigh\u001b[0;34m(a, b, lower, eigvals_only, overwrite_a, overwrite_b, turbo, eigvals, type, check_finite, subset_by_index, subset_by_value, driver)\u001b[0m\n\u001b[1;32m    557\u001b[0m         lwork_args \u001b[38;5;241m=\u001b[39m {\u001b[38;5;124m'\u001b[39m\u001b[38;5;124mlwork\u001b[39m\u001b[38;5;124m'\u001b[39m: lw}\n\u001b[1;32m    559\u001b[0m     drv_args\u001b[38;5;241m.\u001b[39mupdate({\u001b[38;5;124m'\u001b[39m\u001b[38;5;124mlower\u001b[39m\u001b[38;5;124m'\u001b[39m: lower, \u001b[38;5;124m'\u001b[39m\u001b[38;5;124mcompute_v\u001b[39m\u001b[38;5;124m'\u001b[39m: \u001b[38;5;241m0\u001b[39m \u001b[38;5;28;01mif\u001b[39;00m _job \u001b[38;5;241m==\u001b[39m \u001b[38;5;124m\"\u001b[39m\u001b[38;5;124mN\u001b[39m\u001b[38;5;124m\"\u001b[39m \u001b[38;5;28;01melse\u001b[39;00m \u001b[38;5;241m1\u001b[39m})\n\u001b[0;32m--> 560\u001b[0m     w, v, \u001b[38;5;241m*\u001b[39mother_args, info \u001b[38;5;241m=\u001b[39m \u001b[43mdrv\u001b[49m\u001b[43m(\u001b[49m\u001b[43ma\u001b[49m\u001b[38;5;241;43m=\u001b[39;49m\u001b[43ma1\u001b[49m\u001b[43m,\u001b[49m\u001b[43m \u001b[49m\u001b[38;5;241;43m*\u001b[39;49m\u001b[38;5;241;43m*\u001b[39;49m\u001b[43mdrv_args\u001b[49m\u001b[43m,\u001b[49m\u001b[43m \u001b[49m\u001b[38;5;241;43m*\u001b[39;49m\u001b[38;5;241;43m*\u001b[39;49m\u001b[43mlwork_args\u001b[49m\u001b[43m)\u001b[49m\n\u001b[1;32m    562\u001b[0m \u001b[38;5;28;01melse\u001b[39;00m:  \u001b[38;5;66;03m# Generalized problem\u001b[39;00m\n\u001b[1;32m    563\u001b[0m     \u001b[38;5;66;03m# 'gvd' doesn't have lwork query\u001b[39;00m\n\u001b[1;32m    564\u001b[0m     \u001b[38;5;28;01mif\u001b[39;00m driver \u001b[38;5;241m==\u001b[39m \u001b[38;5;124m\"\u001b[39m\u001b[38;5;124mgvd\u001b[39m\u001b[38;5;124m\"\u001b[39m:\n",
      "\u001b[0;31mKeyboardInterrupt\u001b[0m: "
     ]
    }
   ],
   "source": [
    "t = time()\n",
    "\n",
    "denoised_arr = mppca(data, patch_radius=2)\n",
    "\n",
    "print(\"Time taken for local MP-PCA \", -t + time())"
   ]
  },
  {
   "cell_type": "markdown",
   "metadata": {},
   "source": [
    "Internally, the ``mppca`` algorithm denoises the diffusion-weighted data\n",
    "using a 3D sliding window which is defined by the variable patch_radius.\n",
    "In total, this window should comprise a larger number of voxels than the\n",
    "number of diffusion-weighted volumes. Since our data has a total of 67\n",
    "volumes, the patch_radius is set to 2 which corresponds to a 5x5x5 sliding\n",
    "window comprising a total of 125 voxels.\n",
    "\n"
   ]
  },
  {
   "cell_type": "code",
   "execution_count": null,
   "metadata": {
    "collapsed": false,
    "jupyter": {
     "outputs_hidden": false
    }
   },
   "outputs": [],
   "source": [
    "# To assess the performance of the Marchenko-Pastur PCA denoising algorithm,\n",
    "# an axial slice of the original data, denoised data, and residuals are\n",
    "# plotted below:\n",
    "\n",
    "sli = data.shape[2] // 2\n",
    "gra = data.shape[3] - 1\n",
    "orig = data[:, :, sli, gra]\n",
    "den = denoised_arr[:, :, sli, gra]\n",
    "rms_diff = np.sqrt((orig - den) ** 2)\n",
    "\n",
    "fig1, ax = plt.subplots(1, 3, figsize=(12, 6),\n",
    "                        subplot_kw={'xticks': [], 'yticks': []})\n",
    "\n",
    "fig1.subplots_adjust(hspace=0.3, wspace=0.05)\n",
    "\n",
    "ax.flat[0].imshow(orig.T, cmap='gray', interpolation='none',\n",
    "                  origin='lower')\n",
    "ax.flat[0].set_title('Original')\n",
    "ax.flat[1].imshow(den.T, cmap='gray', interpolation='none',\n",
    "                  origin='lower')\n",
    "ax.flat[1].set_title('Denoised Output')\n",
    "ax.flat[2].imshow(rms_diff.T, cmap='gray', interpolation='none',\n",
    "                  origin='lower')\n",
    "ax.flat[2].set_title('Residuals')\n",
    "\n",
    "fig1.savefig('denoised_mppca.png')"
   ]
  },
  {
   "cell_type": "markdown",
   "metadata": {},
   "source": [
    ".. rst-class:: centered small fst-italic fw-semibold\n",
    "\n",
    "The noise suppression can be visually appreciated by comparing the original\n",
    "data slice (left panel) to its denoised version (middle panel). The\n",
    "difference between original and denoised data showing only random noise\n",
    "indicates that the data's structural information is preserved by the PCA\n",
    "denoising algorithm (right panel).\n",
    "\n",
    "\n",
    "Below we show how the denoised data can be saved.\n",
    "\n"
   ]
  },
  {
   "cell_type": "code",
   "execution_count": null,
   "metadata": {
    "collapsed": false,
    "jupyter": {
     "outputs_hidden": false
    }
   },
   "outputs": [],
   "source": [
    "save_nifti('denoised_mppca.nii.gz', denoised_arr, affine)"
   ]
  },
  {
   "cell_type": "markdown",
   "metadata": {},
   "source": [
    "Additionally, we show how the PCA denoising algorithm affects different\n",
    "diffusion measurements. For this, we run the diffusion kurtosis model\n",
    "below on both original and denoised versions of the data:\n",
    "\n"
   ]
  },
  {
   "cell_type": "code",
   "execution_count": null,
   "metadata": {
    "collapsed": false,
    "jupyter": {
     "outputs_hidden": false
    }
   },
   "outputs": [],
   "source": [
    "dkimodel = dki.DiffusionKurtosisModel(gtab)\n",
    "\n",
    "maskdata, mask = median_otsu(data, vol_idx=[0, 1], median_radius=4, numpass=2,\n",
    "                             autocrop=False, dilate=1)\n",
    "\n",
    "dki_orig = dkimodel.fit(data, mask=mask)\n",
    "dki_den = dkimodel.fit(denoised_arr, mask=mask)"
   ]
  },
  {
   "cell_type": "markdown",
   "metadata": {},
   "source": [
    "We use the following code to plot the MD, FA and MK estimates from the two\n",
    "data fits:\n",
    "\n"
   ]
  },
  {
   "cell_type": "code",
   "execution_count": null,
   "metadata": {
    "collapsed": false,
    "jupyter": {
     "outputs_hidden": false
    }
   },
   "outputs": [],
   "source": [
    "FA_orig = dki_orig.fa\n",
    "FA_den = dki_den.fa\n",
    "MD_orig = dki_orig.md\n",
    "MD_den = dki_den.md\n",
    "MK_orig = dki_orig.mk(0, 3)\n",
    "MK_den = dki_den.mk(0, 3)\n",
    "\n",
    "\n",
    "fig2, ax = plt.subplots(2, 3, figsize=(10, 6),\n",
    "                        subplot_kw={'xticks': [], 'yticks': []})\n",
    "\n",
    "fig2.subplots_adjust(hspace=0.3, wspace=0.03)\n",
    "\n",
    "ax.flat[0].imshow(MD_orig[:, :, sli].T, cmap='gray', vmin=0, vmax=2.0e-3,\n",
    "                  origin='lower')\n",
    "ax.flat[0].set_title('MD (DKI)')\n",
    "ax.flat[1].imshow(FA_orig[:, :, sli].T, cmap='gray', vmin=0, vmax=0.7,\n",
    "                  origin='lower')\n",
    "ax.flat[1].set_title('FA (DKI)')\n",
    "ax.flat[2].imshow(MK_orig[:, :, sli].T, cmap='gray', vmin=0, vmax=1.5,\n",
    "                  origin='lower')\n",
    "ax.flat[2].set_title('AD (DKI)')\n",
    "ax.flat[3].imshow(MD_den[:, :, sli].T, cmap='gray', vmin=0, vmax=2.0e-3,\n",
    "                  origin='lower')\n",
    "ax.flat[3].set_title('MD (DKI)')\n",
    "ax.flat[4].imshow(FA_den[:, :, sli].T, cmap='gray', vmin=0, vmax=0.7,\n",
    "                  origin='lower')\n",
    "ax.flat[4].set_title('FA (DKI)')\n",
    "ax.flat[5].imshow(MK_den[:, :, sli].T, cmap='gray', vmin=0, vmax=1.5,\n",
    "                  origin='lower')\n",
    "ax.flat[5].set_title('AD (DKI)')\n",
    "plt.show()\n",
    "fig2.savefig('denoised_dki.png')"
   ]
  },
  {
   "cell_type": "markdown",
   "metadata": {},
   "source": [
    ".. rst-class:: centered small fst-italic fw-semibold\n",
    "\n",
    "In the above figure, the DKI maps obtained from the original data are shown\n",
    "in the upper panels, while the DKI maps from the denoised data are shown in\n",
    "the lower panels. Substantial improvements in measurement robustness can be\n",
    "visually appreciated, particularly for the FA and MK estimates.\n",
    "\n",
    "\n",
    "## Noise standard deviation estimation using the Marchenko-Pastur PCA algorithm\n",
    "\n",
    "As mentioned above, the Marcenko-Pastur PCA algorithm can also be used to\n",
    "estimate the image's noise standard deviation (std). The noise std\n",
    "automatically computed from the ``mppca`` function can be returned by\n",
    "setting the optional input parameter ``return_sigma`` to True.\n",
    "\n"
   ]
  },
  {
   "cell_type": "code",
   "execution_count": null,
   "metadata": {
    "collapsed": false,
    "jupyter": {
     "outputs_hidden": false
    }
   },
   "outputs": [],
   "source": [
    "denoised_arr, sigma = mppca(data, patch_radius=2, return_sigma=True)"
   ]
  },
  {
   "cell_type": "markdown",
   "metadata": {},
   "source": [
    "Let's plot the noise standard deviation estimate:\n",
    "\n"
   ]
  },
  {
   "cell_type": "code",
   "execution_count": null,
   "metadata": {
    "collapsed": false,
    "jupyter": {
     "outputs_hidden": false
    }
   },
   "outputs": [],
   "source": [
    "fig3 = plt.figure('PCA Noise standard deviation estimation')\n",
    "plt.imshow(sigma[..., sli].T, cmap='gray', origin='lower')\n",
    "plt.axis('off')\n",
    "plt.show()\n",
    "fig3.savefig('pca_sigma.png')"
   ]
  },
  {
   "cell_type": "markdown",
   "metadata": {},
   "source": [
    ".. rst-class:: centered small fst-italic fw-semibold\n",
    "\n",
    "The above figure shows that the Marchenko-Pastur PCA algorithm computes a 3D\n",
    "spatial varying noise level map. To obtain the mean noise std across all\n",
    "voxels, you can use the following lines of code:\n",
    "\n"
   ]
  },
  {
   "cell_type": "code",
   "execution_count": null,
   "metadata": {
    "collapsed": false,
    "jupyter": {
     "outputs_hidden": false
    }
   },
   "outputs": [],
   "source": [
    "mean_sigma = np.mean(sigma[mask])\n",
    "\n",
    "print(mean_sigma)"
   ]
  },
  {
   "cell_type": "markdown",
   "metadata": {},
   "source": [
    "Below we use this mean noise level estimate to compute the nominal SNR of\n",
    "the data (i.e. SNR at b-value=0):\n",
    "\n"
   ]
  },
  {
   "cell_type": "code",
   "execution_count": null,
   "metadata": {
    "collapsed": false,
    "jupyter": {
     "outputs_hidden": false
    }
   },
   "outputs": [],
   "source": [
    "b0 = denoised_arr[..., 0]\n",
    "\n",
    "mean_signal = np.mean(b0[mask])\n",
    "\n",
    "snr = mean_signal / mean_sigma\n",
    "\n",
    "print(snr)"
   ]
  },
  {
   "cell_type": "markdown",
   "metadata": {},
   "source": [
    "### References\n",
    "\n",
    ".. [Manjon2013] Manjon JV, Coupe P, Concha L, Buades A, Collins DL \"Diffusion\n",
    "                Weighted Image Denoising Using Overcomplete Local PCA\" (2013)\n",
    "                PLoS ONE 8(9): e73021. doi:10.1371/journal.pone.0073021.\n",
    "\n",
    ".. [Veraa2016a] Veraart J, Fieremans E, Novikov DS. 2016. Diffusion MRI noise\n",
    "                mapping using random matrix theory. Magnetic Resonance in\n",
    "                Medicine. doi: 10.1002/mrm.26059.\n",
    "\n",
    ".. [Henri2018] Henriques, R., 2018. Advanced Methods for Diffusion MRI Data\n",
    "               Analysis and their Application to the Healthy Ageing Brain\n",
    "               (Doctoral thesis). https://doi.org/10.17863/CAM.29356\n",
    "\n",
    ".. [Veraa2016b] Veraart J, Novikov DS, Christiaens D, Ades-aron B, Sijbers,\n",
    "                Fieremans E, 2016. Denoising of Diffusion MRI using random\n",
    "                matrix theory. Neuroimage 142:394-406.\n",
    "                doi: 10.1016/j.neuroimage.2016.08.016\n",
    "\n"
   ]
  },
  {
   "cell_type": "markdown",
   "metadata": {},
   "source": [
    ".. include:: ../../links_names.inc\n",
    "\n",
    "\n"
   ]
  }
 ],
 "metadata": {
  "kernelspec": {
   "display_name": "Python 3 (ipykernel)",
   "language": "python",
   "name": "python3"
  },
  "language_info": {
   "codemirror_mode": {
    "name": "ipython",
    "version": 3
   },
   "file_extension": ".py",
   "mimetype": "text/x-python",
   "name": "python",
   "nbconvert_exporter": "python",
   "pygments_lexer": "ipython3",
   "version": "3.9.13"
  },
  "widgets": {
   "application/vnd.jupyter.widget-state+json": {
    "state": {
     "0364dc8531914895859f597c9f055045": {
      "model_module": "@jupyter-widgets/controls",
      "model_module_version": "2.0.0",
      "model_name": "HTMLModel",
      "state": {
       "layout": "IPY_MODEL_7c387ba818f9438aae635ebaeb6afe0f",
       "style": "IPY_MODEL_df968e832d92476ea90d75edcea54ee0",
       "value": "100%"
      }
     },
     "26219eee32474742961e3d7ee965a527": {
      "model_module": "@jupyter-widgets/controls",
      "model_module_version": "2.0.0",
      "model_name": "HTMLStyleModel",
      "state": {
       "description_width": "",
       "font_size": null,
       "text_color": null
      }
     },
     "2b93158ab08e427a92d1368c0deee86a": {
      "model_module": "@jupyter-widgets/controls",
      "model_module_version": "2.0.0",
      "model_name": "HBoxModel",
      "state": {
       "children": [
        "IPY_MODEL_81c50640f47d4bc195d077b2ef69d449",
        "IPY_MODEL_39d418f8f4b44e4b935e8b5d8cb95150",
        "IPY_MODEL_e3e9a62b043640ad818764d8186a5f04"
       ],
       "layout": "IPY_MODEL_a532115e83654ca5878b812be1ac8688"
      }
     },
     "39d418f8f4b44e4b935e8b5d8cb95150": {
      "model_module": "@jupyter-widgets/controls",
      "model_module_version": "2.0.0",
      "model_name": "FloatProgressModel",
      "state": {
       "bar_style": "success",
       "layout": "IPY_MODEL_3cc16ca89a18494cb2248604bb4c8b4d",
       "max": 1409,
       "style": "IPY_MODEL_a9f3bbc210d44c13a69ae4ff71eea62d",
       "value": 1409
      }
     },
     "3cc16ca89a18494cb2248604bb4c8b4d": {
      "model_module": "@jupyter-widgets/base",
      "model_module_version": "2.0.0",
      "model_name": "LayoutModel",
      "state": {}
     },
     "439bda0e94e445eeaf3897a61959fbda": {
      "model_module": "@jupyter-widgets/controls",
      "model_module_version": "2.0.0",
      "model_name": "HTMLModel",
      "state": {
       "layout": "IPY_MODEL_b67f0cd3d8cf42cbab248a36dd4d2c55",
       "style": "IPY_MODEL_4d8500eaf13140948aaf6ed97d517360",
       "value": " 10603/10603 [01:49&lt;00:00, 95.21 MB/s]"
      }
     },
     "4484afdaa3ea4f8e994ab1c90d7d12ee": {
      "model_module": "@jupyter-widgets/controls",
      "model_module_version": "2.0.0",
      "model_name": "FloatProgressModel",
      "state": {
       "bar_style": "success",
       "layout": "IPY_MODEL_c189e2bc7f1548fcad5f79d5aee661ae",
       "max": 1,
       "style": "IPY_MODEL_d4ec3b79b7274a7c86391e43cccf3f29",
       "value": 1
      }
     },
     "4725cabbe0494617919f00158fa3005c": {
      "model_module": "@jupyter-widgets/base",
      "model_module_version": "2.0.0",
      "model_name": "LayoutModel",
      "state": {}
     },
     "4a31dae884a543d08ead558ef6bd3d6b": {
      "model_module": "@jupyter-widgets/base",
      "model_module_version": "2.0.0",
      "model_name": "LayoutModel",
      "state": {}
     },
     "4d8500eaf13140948aaf6ed97d517360": {
      "model_module": "@jupyter-widgets/controls",
      "model_module_version": "2.0.0",
      "model_name": "HTMLStyleModel",
      "state": {
       "description_width": "",
       "font_size": null,
       "text_color": null
      }
     },
     "501ae976270f45e2896de42e27ddc2a2": {
      "model_module": "@jupyter-widgets/base",
      "model_module_version": "2.0.0",
      "model_name": "LayoutModel",
      "state": {}
     },
     "51dcf7507889485199dccab9c1976c13": {
      "model_module": "@jupyter-widgets/base",
      "model_module_version": "2.0.0",
      "model_name": "LayoutModel",
      "state": {}
     },
     "72ae3574bdc84bb181e01b2651bebb9a": {
      "model_module": "@jupyter-widgets/base",
      "model_module_version": "2.0.0",
      "model_name": "LayoutModel",
      "state": {}
     },
     "7c387ba818f9438aae635ebaeb6afe0f": {
      "model_module": "@jupyter-widgets/base",
      "model_module_version": "2.0.0",
      "model_name": "LayoutModel",
      "state": {}
     },
     "81c50640f47d4bc195d077b2ef69d449": {
      "model_module": "@jupyter-widgets/controls",
      "model_module_version": "2.0.0",
      "model_name": "HTMLModel",
      "state": {
       "layout": "IPY_MODEL_51dcf7507889485199dccab9c1976c13",
       "style": "IPY_MODEL_c6f887916a6e4cd181f15b914024d790",
       "value": "100%"
      }
     },
     "87edef1e56674cf99c50dcefd60601d4": {
      "model_module": "@jupyter-widgets/controls",
      "model_module_version": "2.0.0",
      "model_name": "HBoxModel",
      "state": {
       "children": [
        "IPY_MODEL_f0156302cc8b41c5b40c2a4836cc1fff",
        "IPY_MODEL_e982571cf46445238a1272e13afa095a",
        "IPY_MODEL_dc60ad9cf18a44819da7a5cbfe4e4fc6"
       ],
       "layout": "IPY_MODEL_bb90bb7961c84e12bbac94cd1dcb5135"
      }
     },
     "8a69fa8aef724d549bddb3cebc52c323": {
      "model_module": "@jupyter-widgets/base",
      "model_module_version": "2.0.0",
      "model_name": "LayoutModel",
      "state": {}
     },
     "8e91a86076ea4fb19f45cd189d727c1e": {
      "model_module": "@jupyter-widgets/controls",
      "model_module_version": "2.0.0",
      "model_name": "HTMLStyleModel",
      "state": {
       "description_width": "",
       "font_size": null,
       "text_color": null
      }
     },
     "968cbc3ff21a4ae0b3880ac4256f9038": {
      "model_module": "@jupyter-widgets/controls",
      "model_module_version": "2.0.0",
      "model_name": "FloatProgressModel",
      "state": {
       "bar_style": "success",
       "layout": "IPY_MODEL_fc9ed74aa19749139b872047fc1c1bce",
       "max": 10603,
       "style": "IPY_MODEL_d24d114eb3274430a2b0a533efb6bf7a",
       "value": 10603
      }
     },
     "9c62ccebd94844f48c1d4761d7d3be6a": {
      "model_module": "@jupyter-widgets/controls",
      "model_module_version": "2.0.0",
      "model_name": "HTMLStyleModel",
      "state": {
       "description_width": "",
       "font_size": null,
       "text_color": null
      }
     },
     "a242a667d01a46c9b93fb49577e12d6f": {
      "model_module": "@jupyter-widgets/controls",
      "model_module_version": "2.0.0",
      "model_name": "HBoxModel",
      "state": {
       "children": [
        "IPY_MODEL_a3644bdb37324005a88ad4449fe0a461",
        "IPY_MODEL_4484afdaa3ea4f8e994ab1c90d7d12ee",
        "IPY_MODEL_aa4b4d540981457bb652cf7ebd97b60b"
       ],
       "layout": "IPY_MODEL_c7387fd5661f4f988bdcef9439ce1d1f"
      }
     },
     "a3644bdb37324005a88ad4449fe0a461": {
      "model_module": "@jupyter-widgets/controls",
      "model_module_version": "2.0.0",
      "model_name": "HTMLModel",
      "state": {
       "layout": "IPY_MODEL_72ae3574bdc84bb181e01b2651bebb9a",
       "style": "IPY_MODEL_9c62ccebd94844f48c1d4761d7d3be6a",
       "value": "100%"
      }
     },
     "a532115e83654ca5878b812be1ac8688": {
      "model_module": "@jupyter-widgets/base",
      "model_module_version": "2.0.0",
      "model_name": "LayoutModel",
      "state": {}
     },
     "a8afffdb0d77476aa0bc6ba43de0140f": {
      "model_module": "@jupyter-widgets/controls",
      "model_module_version": "2.0.0",
      "model_name": "HTMLStyleModel",
      "state": {
       "description_width": "",
       "font_size": null,
       "text_color": null
      }
     },
     "a9f3bbc210d44c13a69ae4ff71eea62d": {
      "model_module": "@jupyter-widgets/controls",
      "model_module_version": "2.0.0",
      "model_name": "ProgressStyleModel",
      "state": {
       "description_width": ""
      }
     },
     "aa4b4d540981457bb652cf7ebd97b60b": {
      "model_module": "@jupyter-widgets/controls",
      "model_module_version": "2.0.0",
      "model_name": "HTMLModel",
      "state": {
       "layout": "IPY_MODEL_4725cabbe0494617919f00158fa3005c",
       "style": "IPY_MODEL_a8afffdb0d77476aa0bc6ba43de0140f",
       "value": " 1/1 [00:00&lt;00:00,  6.05 MB/s]"
      }
     },
     "ad7e23d191944923aae7f1f53c119542": {
      "model_module": "@jupyter-widgets/controls",
      "model_module_version": "2.0.0",
      "model_name": "HTMLStyleModel",
      "state": {
       "description_width": "",
       "font_size": null,
       "text_color": null
      }
     },
     "b67f0cd3d8cf42cbab248a36dd4d2c55": {
      "model_module": "@jupyter-widgets/base",
      "model_module_version": "2.0.0",
      "model_name": "LayoutModel",
      "state": {}
     },
     "bb90bb7961c84e12bbac94cd1dcb5135": {
      "model_module": "@jupyter-widgets/base",
      "model_module_version": "2.0.0",
      "model_name": "LayoutModel",
      "state": {}
     },
     "bd5b96f6b3254b189d14bdec2617fd1e": {
      "model_module": "@jupyter-widgets/base",
      "model_module_version": "2.0.0",
      "model_name": "LayoutModel",
      "state": {}
     },
     "c189e2bc7f1548fcad5f79d5aee661ae": {
      "model_module": "@jupyter-widgets/base",
      "model_module_version": "2.0.0",
      "model_name": "LayoutModel",
      "state": {}
     },
     "c6f887916a6e4cd181f15b914024d790": {
      "model_module": "@jupyter-widgets/controls",
      "model_module_version": "2.0.0",
      "model_name": "HTMLStyleModel",
      "state": {
       "description_width": "",
       "font_size": null,
       "text_color": null
      }
     },
     "c7387fd5661f4f988bdcef9439ce1d1f": {
      "model_module": "@jupyter-widgets/base",
      "model_module_version": "2.0.0",
      "model_name": "LayoutModel",
      "state": {}
     },
     "d24d114eb3274430a2b0a533efb6bf7a": {
      "model_module": "@jupyter-widgets/controls",
      "model_module_version": "2.0.0",
      "model_name": "ProgressStyleModel",
      "state": {
       "description_width": ""
      }
     },
     "d4ec3b79b7274a7c86391e43cccf3f29": {
      "model_module": "@jupyter-widgets/controls",
      "model_module_version": "2.0.0",
      "model_name": "ProgressStyleModel",
      "state": {
       "description_width": ""
      }
     },
     "dc60ad9cf18a44819da7a5cbfe4e4fc6": {
      "model_module": "@jupyter-widgets/controls",
      "model_module_version": "2.0.0",
      "model_name": "HTMLModel",
      "state": {
       "layout": "IPY_MODEL_bd5b96f6b3254b189d14bdec2617fd1e",
       "style": "IPY_MODEL_26219eee32474742961e3d7ee965a527",
       "value": " 1/1 [00:00&lt;00:00, 20.09 MB/s]"
      }
     },
     "df968e832d92476ea90d75edcea54ee0": {
      "model_module": "@jupyter-widgets/controls",
      "model_module_version": "2.0.0",
      "model_name": "HTMLStyleModel",
      "state": {
       "description_width": "",
       "font_size": null,
       "text_color": null
      }
     },
     "e3e9a62b043640ad818764d8186a5f04": {
      "model_module": "@jupyter-widgets/controls",
      "model_module_version": "2.0.0",
      "model_name": "HTMLModel",
      "state": {
       "layout": "IPY_MODEL_8a69fa8aef724d549bddb3cebc52c323",
       "style": "IPY_MODEL_ad7e23d191944923aae7f1f53c119542",
       "value": " 1409/1409 [00:15&lt;00:00, 93.31 MB/s]"
      }
     },
     "e982571cf46445238a1272e13afa095a": {
      "model_module": "@jupyter-widgets/controls",
      "model_module_version": "2.0.0",
      "model_name": "FloatProgressModel",
      "state": {
       "bar_style": "success",
       "layout": "IPY_MODEL_501ae976270f45e2896de42e27ddc2a2",
       "max": 1,
       "style": "IPY_MODEL_f8cde150e4e645e4b19a41d221c53e37",
       "value": 1
      }
     },
     "eb40960acb97479e88d7269940d671db": {
      "model_module": "@jupyter-widgets/controls",
      "model_module_version": "2.0.0",
      "model_name": "HBoxModel",
      "state": {
       "children": [
        "IPY_MODEL_0364dc8531914895859f597c9f055045",
        "IPY_MODEL_968cbc3ff21a4ae0b3880ac4256f9038",
        "IPY_MODEL_439bda0e94e445eeaf3897a61959fbda"
       ],
       "layout": "IPY_MODEL_fb4a2acc63894789aeb36228bf679f6f"
      }
     },
     "f0156302cc8b41c5b40c2a4836cc1fff": {
      "model_module": "@jupyter-widgets/controls",
      "model_module_version": "2.0.0",
      "model_name": "HTMLModel",
      "state": {
       "layout": "IPY_MODEL_4a31dae884a543d08ead558ef6bd3d6b",
       "style": "IPY_MODEL_8e91a86076ea4fb19f45cd189d727c1e",
       "value": "100%"
      }
     },
     "f8cde150e4e645e4b19a41d221c53e37": {
      "model_module": "@jupyter-widgets/controls",
      "model_module_version": "2.0.0",
      "model_name": "ProgressStyleModel",
      "state": {
       "description_width": ""
      }
     },
     "fb4a2acc63894789aeb36228bf679f6f": {
      "model_module": "@jupyter-widgets/base",
      "model_module_version": "2.0.0",
      "model_name": "LayoutModel",
      "state": {}
     },
     "fc9ed74aa19749139b872047fc1c1bce": {
      "model_module": "@jupyter-widgets/base",
      "model_module_version": "2.0.0",
      "model_name": "LayoutModel",
      "state": {}
     }
    },
    "version_major": 2,
    "version_minor": 0
   }
  }
 },
 "nbformat": 4,
 "nbformat_minor": 4
}
