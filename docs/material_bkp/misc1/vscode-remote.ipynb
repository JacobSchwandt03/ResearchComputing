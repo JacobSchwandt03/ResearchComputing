{
 "cells": [
  {
   "cell_type": "markdown",
   "id": "33487a2b",
   "metadata": {},
   "source": [
    "# VSCode and Remote SSH\n",
    "\n",
    "\n",
    "\n",
    "For VS code we use the Remote-SSH extension.\n",
    "\n",
    "Install the Remote-SSH extension in VS Code. \n",
    "\n",
    "Got to settings in VS Code, then under extensions, enable this setting: `remote.SSH.showLoginTerminal`, tick the box. The box should look like this:\n",
    "\n",
    " <img src=\"images/remote-ssh.png\" alt=\"VSCode Remote\" width=\"800\">\n",
    "\n",
    "This enables to pull up the terminal so that sign in via 2FA that way.\n",
    "\n",
    "Then create or the ssh config file\n",
    "\n",
    "```bash\n",
    "vim ~/.ssh/config\n",
    "```\n",
    "\n",
    "Enter edit mode by pressing `i`.\n",
    "\n",
    "paste: \n",
    "```bash\n",
    "Host icelake\n",
    "    User bb667\n",
    "    HostName login-icelake.hpc.cam.ac.uk\n",
    "    ControlMaster auto\n",
    "    ControlPath ~/.ssh/%r@%h:%p\n",
    "```\n",
    "\n",
    "Save and exit by pressing `Esc`, then `:wq`, then `Enter`.\n",
    "\n",
    "Note: you can also do this edit of the config file within VSCode. \n",
    "\n",
    "\n",
    "## Jupyter kernel\n",
    "\n",
    "To make your Python virtual environment visible on your remote VSCode follow this.\n",
    "You need to activate your python environment and also set the jupyter kernel coresponding to your environment.\n",
    "You can set the jupyter kernel to your environment by running:\n",
    "\n",
    "```bash\n",
    "python -m ipykernel install --user --name=<venv-name> --display-name \"<venv-name>\"\n",
    "```\n",
    "\n",
    "where you should replace `<venv-name>` with the name of your virtual environment.\n",
    "\n",
    "Run this command once you have activated your virtual environment with `source <venv-name>/bin/activate`.\n",
    "\n",
    "You will certainly need to install `ipykernel' to run this command. Just do:\n",
    "\n",
    "```bash\n",
    "pip install ipykernel\n",
    "```\n",
    "\n",
    "You will also certainly need to install the Jupyter and Python extensions for your remote VSCode session. You will probably be\n",
    "prompted about it. "
   ]
  }
 ],
 "metadata": {
  "kernelspec": {
   "display_name": "Python 3 (ipykernel)",
   "language": "python",
   "name": "python3"
  },
  "language_info": {
   "codemirror_mode": {
    "name": "ipython",
    "version": 3
   },
   "file_extension": ".py",
   "mimetype": "text/x-python",
   "name": "python",
   "nbconvert_exporter": "python",
   "pygments_lexer": "ipython3",
   "version": "3.9.13"
  },
  "widgets": {
   "application/vnd.jupyter.widget-state+json": {
    "state": {
     "052f4709126349c8b497ebe08e9a3d69": {
      "model_module": "@jupyter-widgets/base",
      "model_module_version": "2.0.0",
      "model_name": "LayoutModel",
      "state": {}
     },
     "096992297e984e6ca622b5a4e9e38057": {
      "model_module": "@jupyter-widgets/controls",
      "model_module_version": "2.0.0",
      "model_name": "SliderStyleModel",
      "state": {
       "description_width": ""
      }
     },
     "0cae6396c951452588cac4d59dcd47b0": {
      "model_module": "@jupyter-widgets/output",
      "model_module_version": "1.0.0",
      "model_name": "OutputModel",
      "state": {
       "layout": "IPY_MODEL_e0503bf7b28d4670ad074c6a25495197",
       "outputs": [
        {
         "name": "stdout",
         "output_type": "stream",
         "text": "Plot saved as 'gaussian_ellipsoid_plot.svg'\n"
        },
        {
         "data": {
          "image/png": "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\n",
          "text/plain": "<Figure size 1500x500 with 3 Axes>"
         },
         "metadata": {},
         "output_type": "display_data"
        }
       ]
      }
     },
     "0dcd73c6a7e847d2bacd0620aa9f31d6": {
      "model_module": "@jupyter-widgets/controls",
      "model_module_version": "2.0.0",
      "model_name": "CheckboxModel",
      "state": {
       "description": "Save as SVG",
       "disabled": false,
       "layout": "IPY_MODEL_44fafdcd2e5341d4b96b3cb9d3699b1e",
       "style": "IPY_MODEL_211f1da109054481b9aa2e7eea5dfc3c",
       "value": false
      }
     },
     "19ee9cc1833146808e8565fecab3ea9c": {
      "model_module": "@jupyter-widgets/controls",
      "model_module_version": "2.0.0",
      "model_name": "SliderStyleModel",
      "state": {
       "description_width": ""
      }
     },
     "1c8db01ddf434786aa5ffbac4686b510": {
      "model_module": "@jupyter-widgets/base",
      "model_module_version": "2.0.0",
      "model_name": "LayoutModel",
      "state": {}
     },
     "211f1da109054481b9aa2e7eea5dfc3c": {
      "model_module": "@jupyter-widgets/controls",
      "model_module_version": "2.0.0",
      "model_name": "CheckboxStyleModel",
      "state": {
       "description_width": ""
      }
     },
     "29aeaf099cf343acbf2ad276013dc947": {
      "model_module": "@jupyter-widgets/controls",
      "model_module_version": "2.0.0",
      "model_name": "SliderStyleModel",
      "state": {
       "description_width": ""
      }
     },
     "2d8537050d484fdcbbe373d013b9cd81": {
      "model_module": "@jupyter-widgets/controls",
      "model_module_version": "2.0.0",
      "model_name": "FloatSliderModel",
      "state": {
       "behavior": "drag-tap",
       "description": "Angle (°):",
       "layout": "IPY_MODEL_1c8db01ddf434786aa5ffbac4686b510",
       "max": 180,
       "style": "IPY_MODEL_096992297e984e6ca622b5a4e9e38057"
      }
     },
     "44fafdcd2e5341d4b96b3cb9d3699b1e": {
      "model_module": "@jupyter-widgets/base",
      "model_module_version": "2.0.0",
      "model_name": "LayoutModel",
      "state": {}
     },
     "625680ae60c24e7a86d6ce2d76db93b5": {
      "model_module": "@jupyter-widgets/controls",
      "model_module_version": "2.0.0",
      "model_name": "SliderStyleModel",
      "state": {
       "description_width": ""
      }
     },
     "683f97ee83a44a2e9a17ffbb443f213c": {
      "model_module": "@jupyter-widgets/controls",
      "model_module_version": "2.0.0",
      "model_name": "VBoxModel",
      "state": {
       "_dom_classes": [
        "widget-interact"
       ],
       "children": [
        "IPY_MODEL_2d8537050d484fdcbbe373d013b9cd81",
        "IPY_MODEL_b61f7ac7ca8c4e0fb037ff0a2b1cadbf",
        "IPY_MODEL_d257f4877feb4021977ff465ed71cda2",
        "IPY_MODEL_ef69611eece943b4a4a12a12bfb43ccc",
        "IPY_MODEL_0cae6396c951452588cac4d59dcd47b0"
       ],
       "layout": "IPY_MODEL_6cc2e3b6bd6d41e5bbeb4d95086b4ba2"
      }
     },
     "6cc2e3b6bd6d41e5bbeb4d95086b4ba2": {
      "model_module": "@jupyter-widgets/base",
      "model_module_version": "2.0.0",
      "model_name": "LayoutModel",
      "state": {}
     },
     "8d8b3b63fd044fbd95431e690177b40e": {
      "model_module": "@jupyter-widgets/base",
      "model_module_version": "2.0.0",
      "model_name": "LayoutModel",
      "state": {}
     },
     "98dac7ef6de74164828168501c356e75": {
      "model_module": "@jupyter-widgets/base",
      "model_module_version": "2.0.0",
      "model_name": "LayoutModel",
      "state": {}
     },
     "9e1136dffa3f4dd6b7832481b12e1b82": {
      "model_module": "@jupyter-widgets/base",
      "model_module_version": "2.0.0",
      "model_name": "LayoutModel",
      "state": {}
     },
     "a16907d4107142c59f6a761f1dac2beb": {
      "model_module": "@jupyter-widgets/controls",
      "model_module_version": "2.0.0",
      "model_name": "FloatSliderModel",
      "state": {
       "behavior": "drag-tap",
       "description": "Major Axis:",
       "layout": "IPY_MODEL_e0d6bb73b5564a488d88a9f3ef37429d",
       "max": 20,
       "min": 1,
       "style": "IPY_MODEL_19ee9cc1833146808e8565fecab3ea9c",
       "value": 5
      }
     },
     "a22aa195fece4d5f84629571a938ce7b": {
      "model_module": "@jupyter-widgets/base",
      "model_module_version": "2.0.0",
      "model_name": "LayoutModel",
      "state": {
       "height": "400px"
      }
     },
     "a3b8204f01714a668bf8b9f62b0adc0e": {
      "model_module": "@jupyter-widgets/base",
      "model_module_version": "2.0.0",
      "model_name": "LayoutModel",
      "state": {}
     },
     "a7665f0870484764b071f05d476b4e9d": {
      "model_module": "@jupyter-widgets/output",
      "model_module_version": "1.0.0",
      "model_name": "OutputModel",
      "state": {
       "layout": "IPY_MODEL_a22aa195fece4d5f84629571a938ce7b",
       "outputs": [
        {
         "data": {
          "image/png": "iVBORw0KGgoAAAANSUhEUgAABJ4AAAGVCAYAAAC/7DuOAAAAOXRFWHRTb2Z0d2FyZQBNYXRwbG90bGliIHZlcnNpb24zLjYuMiwgaHR0cHM6Ly9tYXRwbG90bGliLm9yZy8o6BhiAAAACXBIWXMAAA9hAAAPYQGoP6dpAABYB0lEQVR4nO3dd3yUZfb///ckgQQSQMTQMSACKrCoKLp0FAFBsaA0RUFXYC1UpUk39CKoFHUVFIgFxEVRFJRi+9iwsAviggYLq1IWQgsJkPn94Y98M1zXTe5hcs9kyOv5ePjY5eQ6c11TMgMnd87x+f1+vwAAAAAAAIACFhPpAwAAAAAAAODsROEJAAAAAAAAnqDwBAAAAAAAAE9QeAIAAAAAAIAnKDwBAAAAAADAExSeAAAAAAAA4AkKTwAAAAAAAPAEhScAAAAAAAB4gsITAAAAAAAAPEHhCRGxcOFC+Xw+7dixI9JHcTR27Fj5fL6AWPXq1dWzZ8/cP69fv14+n0/r168P7+FOEcw5WrZsqZYtW3p+JgAAAAAAKDxFofT0dD344IOqXbu2SpYsqZIlS+qSSy7RAw88oE2bNkX6eIVe9erV5fP5rP+1a9cu0scDAAAAAOCsERfpAyA4K1euVJcuXRQXF6c77rhDDRo0UExMjLZu3arly5dr3rx5Sk9PV0pKSqSPelo9evRQ165dFR8fH5H9L730Ug0ePNiIV65cOajbad68uTIzM1W8ePGCOtoZKSznAAAAAAAgLwpPUeSHH35Q165dlZKSovfff1+VKlUK+PqUKVM0d+5cxcQU/gvZYmNjFRsbG7H9q1SpojvvvDPk24mJiVFCQkIBnOjsOAcAAAAAAHkV/goFck2dOlWHDx/WggULjKKTJMXFxalfv36qVq1abmzTpk3q2bOnLrjgAiUkJKhixYq65557tHfv3oDcnj17qnr16sZt2vocrVmzRk2bNtU555yjpKQk1alTRyNGjAhY8+STT6pu3boqWbKkypYtqyuuuEJpaWm5X7f1eFqxYoU6dOigypUrKz4+XjVr1tRjjz2mEydOBNx2y5YtVa9ePW3ZskWtWrVSyZIlVaVKFU2dOjXfx7Cg2XornTzfxo0b1bhxY5UoUUI1atTQ/Pnzjfz8HidJ+vrrr3X99derdOnSSkpK0rXXXqtPP/0033NI0jPPPKOaNWuqRIkSatSokT788MMCu+8AAAAAAOSHK56iyMqVK3XhhRfqqquucp2zZs0a/fjjj+rVq5cqVqyozZs365lnntHmzZv16aefGkWl/GzevFk33HCD/vKXv2j8+PGKj4/X9u3b9fHHH+euefbZZ9WvXz/ddttt6t+/v44ePapNmzbps88+U/fu3R1ve+HChUpKStKgQYOUlJSktWvXavTo0Tpw4ICmTZsWsHbfvn1q166dbr31VnXu3FnLli3T0KFDVb9+fV1//fX53o9jx45pz549RjwxMVElSpQI4hGx27dvn9q3b6/OnTurW7duevXVV/X3v/9dxYsX1z333CPJ3eO0efNmNWvWTKVLl9aQIUNUrFgxPf3002rZsqU2bNhw2tfCc889pz59+qhx48YaMGCAfvzxR3Xs2FHnnntuQHESAAAAAACvUHiKEgcOHNB///tf3XzzzcbX9u/fr+PHj+f+OW/x5P777zd6GV199dXq1q2bPvroIzVr1iyoc6xZs0bZ2dlatWqVzjvvPOuat956S3Xr1tXSpUuDuu20tLSAok/fvn3Vt29fzZ07V6mpqQH9oP773//qxRdfVI8ePSRJ9957r1JSUvTcc8+5KjytXr1aycnJRnzSpEkaNmxYUOe2+e9//6sZM2Zo0KBBkqQ+ffroqquu0vDhw9WjRw8VK1bM1eM0cuRIHTt2TB999JEuuOACSdJdd92lOnXqaMiQIdqwYYM179ixYxoxYoQuvfRSrVu3Lrf30yWXXKLevXtTeAIAAAAAhAW/ahclDhw4IElKSkoyvtayZUslJyfn/jdnzpzcr+Ut5Bw9elR79uzR1VdfLUn66quvgj7HOeecI+nPX4vLyclxXPPrr7/qiy++COq285714MGD2rNnj5o1a6YjR45o69atAWuTkpICejQVL15cjRo10o8//uhqr6uuukpr1qwx/uvWrVtQZ3YSFxenPn36BJyvT58+2rVrlzZu3Cgp/8fpxIkTWr16tW6++ebcopMkVapUSd27d9dHH32U+7o41Zdffqldu3apb9++AQ3He/bsqTJlyhTEXQQAAAAAIF8UnqJEqVKlJEmHDh0yvvb0009rzZo1Wrx4sfG1//3vf+rfv78qVKigEiVKKDk5WTVq1JAkZWRkBH2OLl26qEmTJvrb3/6mChUqqGvXrnr11VcDilBDhw5VUlKSGjVqpFq1aumBBx4I+FU8J5s3b9Ytt9yiMmXKqHTp0kpOTs4tLp161qpVqxq/Jli2bFnt27fP1f0477zz1Lp1a+O/gpoGWLlyZSUmJgbEateuLUm5fa3ye5x2796tI0eOqE6dOsbtX3zxxcrJydEvv/xi3f+nn36SJNWqVSsgXqxYsYAiFgAAAAAAXqLwFCXKlCmjSpUq6d///rfxtauuukqtW7dWkyZNjK917txZzz77rPr27avly5dr9erVeueddyQpoFjk1Ovp1MbeJUqU0AcffKD33ntPPXr00KZNm9SlSxddd911uWsvvvhiff/993r55ZfVtGlTvfbaa2ratKnGjBnjeP/279+vFi1a6Ntvv9X48eP15ptvas2aNZoyZYpxVkmOE/H8fr/jHoXNmTxOAAAAAABEEwpPUaRDhw7avn27Pv/8c1fr9+3bp/fff1/Dhg3TuHHjdMstt+i6666zXvFStmxZ7d+/34ifvHImr5iYGF177bWaOXOmtmzZogkTJmjt2rVat25d7prExER16dJFCxYs0M8//6wOHTpowoQJOnr0qPWs69ev1969e7Vw4UL1799fN9xwg1q3bq2yZcu6uq+FzX//+18dPnw4IPaf//xHkgKmB57ucUpOTlbJkiX1/fffG7e/detWxcTEOPZqOnnl1rZt2wLix44dU3p6eih3DQAAAAAA1yg8RZEhQ4aoZMmSuueee/THH38YXz/1ap+TVwWdGp81a5aRW7NmTWVkZGjTpk25sd9++02vv/56wLr//e9/Ru6ll14qScrKypIk7d27N+DrxYsX1yWXXCK/369jx45Z75vtrNnZ2Zo7d651fWF3/PhxPf3007l/zs7O1tNPP63k5GQ1bNhQUv6PU2xsrNq0aaMVK1bk/nqeJP3xxx9KS0tT06ZNVbp0aev+V1xxhZKTkzV//nxlZ2fnxhcuXGgtMAIAAAAA4AWm2kWRWrVqKS0tTd26dVOdOnV0xx13qEGDBvL7/UpPT1daWppiYmJUtWpVSVLp0qXVvHlzTZ06VceOHVOVKlW0evVq6xUvXbt21dChQ3XLLbeoX79+OnLkiObNm6fatWsHNCEfP368PvjgA3Xo0EEpKSnatWuX5s6dq6pVq6pp06aSpDZt2qhixYpq0qSJKlSooO+++05PPfWUOnTokNur6lSNGzdW2bJldffdd6tfv37y+XxatGiRZ786t3PnTmtPrKSkJOvkwGBVrlxZU6ZM0Y4dO1S7dm298sor+uabb/TMM8+oWLFiktw9TqmpqVqzZo2aNm2q+++/X3FxcXr66aeVlZWlqVOnOu5frFgxpaamqk+fPrrmmmvUpUsXpaena8GCBfR4AgAAAACEDYWnKHPTTTfpX//6l2bMmKHVq1fr+eefl8/nU0pKijp06KC+ffuqQYMGuevT0tL00EMPac6cOfL7/WrTpo1WrVqlypUrB9xuuXLl9Prrr2vQoEEaMmSIatSooUmTJmnbtm0BhaeOHTtqx44dev7557Vnzx6dd955atGihcaNG5c7La1Pnz5asmSJZs6cqUOHDqlq1arq16+fRo4c6Xi/ypUrp5UrV2rw4MEaOXKkypYtqzvvvFPXXnut2rZtW8CPovTNN9+oR48eRjwlJaVACk9ly5bVCy+8oIceekjPPvusKlSooKeeekr33Xdf7ho3j1PdunX14Ycfavjw4Zo0aZJycnJ01VVXafHixbrqqqtOe4bevXvrxIkTmjZtmh555BHVr19fb7zxhkaNGhXy/QMAAAAAwA2fP5q6MQNRoGXLltqzZ4+1ETwAAAAAAEUJPZ4AAAAAAADgCQpPAAAAAAAA8ASFJwAAAAAAAHiCHk8AAAAAAADwBFc8AQAAAAAAwBMUngAAAAAAAOCJQl94mjp1qi666CLl5ORE+ii5evbsqerVq0f6GCHJysqK9BHy1bJlS7Vs2TLSxzgr7NixQz6fTwsXLoz0UQqNvXv3KjExUW+//XakjwIgilWvXl09e/YMy14LFy6Uz+fTjh07wrIfACA0J9+3v/zyy0gfBYioQl14OnDggKZMmaKhQ4cqJsY86v79+5WQkCCfz6fvvvsuAicsOPv371fv3r2VnJysxMREtWrVSl999ZXr/O+++07t2rVTUlKSzj33XPXo0UO7d+821q1evVpVq1ZVYmKiOnbsqP3795/RedevXy+fzyefz6fFixdb1zRp0kQ+n0/16tU7oz0iLe99PPW/Tz/91NVt7Ny5U507d9Y555yj0qVL66abbtKPP/54xmcaO3asfD6fYmJi9MsvvxhfP3DggEqUKCGfz6cHH3zwjPeJpJNFMtt/L7/8sqvbcPP9VK5cOf3tb3/TqFGjvLgbAM7Ayb+g+3w+ffTRR8bX/X6/qlWrJp/PpxtuuCECJ8zfli1bNHbsWIpDAHCWy/uZ5fP5lJCQoNq1a+vBBx/UH3/8EenjAYVKXKQPcDrPP/+8jh8/rm7dulm/vnTpUvl8PlWsWFFLlixRampqmE9YMHJyctShQwd9++23euSRR3Teeedp7ty5atmypTZu3KhatWqdNv/XX39V8+bNVaZMGU2cOFGHDh3S9OnT9a9//Uuff/65ihcvLkk6dOiQunXrpvvvv18NGzbU448/rhEjRmju3LlnfPaEhASlpaXpzjvvDIjv2LFDn3zyiRISEs74tlevXn3GuQWpX79+uvLKKwNiF154Yb55hw4dUqtWrZSRkaERI0aoWLFievzxx9WiRQt98803Kleu3BmfKT4+Xi+99JKGDBkSEF++fLl1fUpKijIzM1WsWLEz3jPcunXrpvbt2wfE/vrXv+abF8z3U9++ffXEE09o7dq1uuaaawr8PgA4Myc/W5o2bRoQ37Bhg3799VfFx8dH6GSm77//PuCHY1u2bNG4cePUsmXLqL86GgCQv/Hjx6tGjRo6evSoPvroI82bN09vv/22/v3vf0f6aEChUagLTwsWLFDHjh0dixeLFy9W+/btlZKSorS0tKgtPC1btkyffPKJli5dqttuu02S1LlzZ9WuXVtjxoxRWlraafMnTpyow4cPa+PGjTr//PMlSY0aNdJ1112nhQsXqnfv3pKkrVu36vzzz9djjz0mSapRo4ZRMApW+/bt9cYbb2jPnj0677zzcuNpaWmqUKGCatWqpX379p3RbZ8smBWE48ePKycn54xus1mzZrnPSzDmzp2rbdu26fPPP88tXF1//fWqV6+eZsyYoYkTJwZ9mye1b9/eWnhKS0tThw4d9NprrwXET/4UJtxycnKUnZ19RntffvnlZ/T6DOb76eKLL1a9evW0cOFCCk9AIdK+fXstXbpUTzzxhOLi/t9fVdLS0tSwYUPt2bMngqcLVJiKYACA8Lv++ut1xRVXSJL+9re/qVy5cpo5c6ZWrFgR4ZMBhUeh/VW79PR0bdq0Sa1bt7Z+/eeff9aHH36orl27qmvXrkpPT9cnn3xirGvZsqXq1aunLVu2qFWrVipZsqSqVKmiqVOnGmt/+ukndezYUYmJiSpfvrwGDhyod999Vz6fT+vXrz/teXNycjRr1izVrVtXCQkJqlChgvr06eOq6LJs2TJVqFBBt956a24sOTlZnTt31ooVK/Ltx/Taa6/phhtuyC06SVLr1q1Vu3Ztvfrqq7mx888/X9u2bdPSpUv1ww8/6Iknnsj3aqr83HTTTYqPj9fSpUsD4mlpaercubNiY2ONnAULFuiaa65R+fLlFR8fr0suuUTz5s0z1tl6PO3atUv33nuvKlSooISEBDVo0EAvvPBCwJqTv6o1ffp0zZo1SzVr1lR8fLy2bNki6c8C3M8//xzU/Tx48KCOHz8eVM6yZct05ZVXBlwtddFFF+naa68NeF7ORPfu3fXNN99o69atubHff/9da9euVffu3Y31th5PPXv2VFJSknbu3Kmbb75ZSUlJSk5O1sMPP6wTJ04E5B8+fFiDBw9WtWrVFB8frzp16mj69Ony+/0B607+it+SJUtUt25dxcfH65133pEk/fDDD/rhhx+Cup+HDx9WdnZ2UDnBfj9dd911evPNN437AiByunXrpr1792rNmjW5sezsbC1btsz6Hjd9+nQ1btxY5cqVU4kSJdSwYUMtW7bMWJeZmal+/frpvPPOU6lSpdSxY0ft3LlTPp9PY8eOzV138teat2/frp49e+qcc85RmTJl1KtXLx05ciTgNvP2eFq4cKFuv/12SVKrVq1yf/3i5N8hTt3Hdhsnbd68Wddcc41KlCihqlWrKjU11bHf5apVq9SsWTMlJiaqVKlS6tChgzZv3mxdCwDw1skfZqanp+fGsrKyNGjQoNw2ELfccovRFmXFihXq0KGDKleurPj4eNWsWVOPPfaY8ffybdu2qVOnTqpYsaISEhJUtWpVde3aVRkZGQHrFi9erIYNG6pEiRI699xz1bVrV2urDiAcCm3h6WQR6fLLL7d+/aWXXlJiYqJuuOEGNWrUSDVr1tSSJUusa/ft26d27dqpQYMGmjFjhi666CINHTpUq1atyl1z+PBhXXPNNXrvvffUr18/Pfroo/rkk080dOhQV+ft06ePHnnkETVp0kSzZ89Wr169tGTJErVt21bHjh07be7XX3+tyy+/3Ohj1ahRIx05ckT/+c9/HHN37typXbt25VbZT83/+uuvc/9cvnx5jR07Vl27dtWFF16o999/X5MnT3Z1/5yULFlSN910k1566aXc2LfffqvNmzdb/3EgSfPmzVNKSopGjBihGTNmqFq1arr//vs1Z86c0+6VmZmpli1batGiRbrjjjs0bdo0lSlTRj179tTs2bON9QsWLNCTTz6p3r17a8aMGTr33HMl/XmVy1133eX6Pvbq1UulS5dWQkKCWrVq5ao5YE5OjjZt2uT4vPzwww86ePCg6zOcqnnz5qpatWrA1TuvvPKKkpKS1KFDB9e3c+LECbVt21blypXT9OnT1aJFC82YMUPPPPNM7hq/36+OHTvq8ccfV7t27TRz5kzVqVNHjzzyiAYNGmTc5tq1azVw4EB16dJFs2fPzv1Vk2uvvVbXXnut67ONGzdOSUlJSkhI0JVXXun6Vy+D/X5q2LCh9u/fzz/SgEKkevXq+utf/xrw2bJq1SplZGSoa9euxvrZs2frsssu0/jx4zVx4kTFxcXp9ttv11tvvRWwrmfPnnryySfVvn17TZkyRSVKlDjte2bnzp118OBBTZo0SZ07d9bChQs1btw4x/XNmzdXv379JEkjRozQokWLtGjRIl188cVB3f/ff/9drVq10jfffKNhw4ZpwIABevHFF62fdYsWLVKHDh2UlJSkKVOmaNSoUdqyZYuaNm1KnykAiICTP2jN21bjoYce0rfffqsxY8bo73//u958802jH+vChQuVlJSkQYMGafbs2WrYsKFGjx6tYcOG5a7Jzs5W27Zt9emnn+qhhx7SnDlz1Lt3b/34448BvXsnTJigu+66S7Vq1dLMmTM1YMAAvf/++2revPkZ9/gFQuIvpEaOHOmX5D948KD16/Xr1/ffcccduX8eMWKE/7zzzvMfO3YsYF2LFi38kvwvvvhibiwrK8tfsWJFf6dOnXJjM2bM8Evy//Of/8yNZWZm+i+66CK/JP+6dety43fffbc/JSUl988ffvihX5J/yZIlAXu/88471vipEhMT/ffcc48Rf+utt/yS/O+8845j7hdffGHcv5MeeeQRvyT/0aNHA+K//vqr//PPP/dnZmae9lyns27dOr8k/9KlS/0rV670+3w+/88//5y77wUXXOD3+/98/OvWrRuQe+TIEeP22rZtm5tzUosWLfwtWrTI/fOsWbP8kvyLFy/OjWVnZ/v/+te/+pOSkvwHDhzw+/1+f3p6ul+Sv3Tp0v5du3YZe0kKuF0nH3/8sb9Tp07+5557zr9ixQr/pEmT/OXKlfMnJCT4v/rqq9Pm7t692y/JP378eONrc+bM8Uvyb926Nd8znGrMmDF+Sf7du3f7H374Yf+FF16Y+7Urr7zS36tXL7/f/+d9fOCBB3K/dvIxWbBgQW7s7rvvtp7xsssu8zds2DD3z//85z/9kvypqakB62677Ta/z+fzb9++PTcmyR8TE+PfvHmzcfaUlJSA7xsnP/30k79Nmzb+efPm+d944w3/rFmz/Oeff74/JibGv3Llynzzg/1++uSTT/yS/K+88kq+tw3AWwsWLPBL8n/xxRf+p556yl+qVKncz4zbb7/d36pVK7/f/+f7SYcOHXLzTv1cyc7O9terV89/zTXX5MY2btzol+QfMGBAwNqePXv6JfnHjBmTGzv5Xnvqe8ktt9ziL1euXEAsJSXFf/fdd+f+eenSpcbfG046dR+n2xgwYIBfkv+zzz7Lje3atctfpkwZvyR/enq63+/3+w8ePOg/55xz/Pfdd1/A7f3+++/+MmXKGHEAQME5+Zn13nvv+Xfv3u3/5Zdf/C+//LK/XLly/hIlSvh//fXX3DWtW7f25+Tk5OYOHDjQHxsb69+/f39uzPZvpD59+vhLliyZ+++5r7/+OvffYE527Njhj42N9U+YMCEg/q9//csfFxdnxIFwKLRXPO3du1dxcXFKSkoyvrZp0yb961//Cmg63q1bN+3Zs0fvvvuusT4pKSmgV0zx4sXVqFGjgOli77zzjqpUqaKOHTvmxhISEnTffffle9alS5eqTJkyuu6667Rnz57c/xo2bKikpCStW7futPmZmZnWHhEn++JkZmaeNley95hwyq9SpYquvPLKAuv506ZNG5177rl6+eWX5ff79fLLLzs2hJekEiVK5P7/jIwM7dmzRy1atNCPP/5oXCKa19tvv62KFSsG3HaxYsXUr18/HTp0SBs2bAhY36lTJyUnJxu34/f78/3VSUlq3Lixli1bpnvuuUcdO3bUsGHD9Omnn8rn82n48OGnzT2T5yVY3bt31/bt2/XFF1/k/q/TVWan07dv34A/N2vWLOB74+2331ZsbGzuT/FPGjx4sPx+f8CVg5LUokULXXLJJcY+O3bscPXT9/PPP1/vvvuu+vbtqxtvvFH9+/fX119/reTkZA0ePDjf/GC/n8qWLStJhapnDIA/rzbKzMzUypUrdfDgQa1cudLxPS7v58q+ffuUkZGhZs2aBUyzPPlrv/fff39A7kMPPeR4Btv74969e3XgwIGg708w3n77bV199dVq1KhRbiw5OVl33HFHwLo1a9Zo//79uX8HOvlfbGysrrrqqnz//gEACF3r1q2VnJysatWqqWvXrkpKStLrr7+uKlWq5K7p3bu3fD5f7p+bNWumEydO6KeffsqN5f0sO3jwoPbs2aNmzZrpyJEjue01ypQpI0l69913jV/9Pmn58uXKyclR586dAz4bKlasqFq1avHZgIgo1M3FnSxevFiJiYm64IILtH37dkl//qOyevXqWrJkiXHZfNWqVQO+0aU//7G5adOm3D//9NNPqlmzprHOzfSybdu2KSMjQ+XLl7d+fdeuXafNL1GihLWP09GjR3O/frpcSWecXxCKFSum22+/XWlpaWrUqJF++eWX0xZAPv74Y40ZM0b/93//Z7xhZmRk5L6hnuqnn35SrVq1jF+hOvkrDHnfuKU/m6cXtAsvvFA33XSTli9frhMnTlh7WEnheV4uu+wyXXTRRUpLS9M555yjihUrBt0gOyEhwSjOlS1bNqA32U8//aTKlSurVKlSAevC+bife+656tWrlyZPnqxff/1VVatWdVwb7PeT///v7XTq9z6AyEpOTlbr1q2VlpamI0eO6MSJE46DHlauXKnU1FR98803Ad//eb+vf/rpJ8XExBjvUaf7nM/bO1H6f4Xqffv2qXTp0kHfJ7d++uknXXXVVUa8Tp06AX/etm2bJDm+93t5RgDAn+bMmaPatWsrLi5OFSpUUJ06dYx/r5zu8+SkzZs3a+TIkVq7dq3xA46TP5yvUaOGBg0apJkzZ2rJkiVq1qyZOnbsqDvvvDP331Dbtm2T3+937OUbTVOucfYotIWncuXK6fjx4zp48GDAP3j9fr9eeuklHT582HpVxa5du3To0KGAK6WcigP+AmomnJOTo/Llyzv2mLJddZNXpUqV9Ntvvxnxk7HKlSufNjfv2lPzzz333LBM3Onevbvmz5+vsWPHqkGDBtbnRvrzd56vvfZaXXTRRZo5c6aqVaum4sWL6+2339bjjz/u2Dj1THhVcKtWrZqys7N1+PBhx7/Un3zcz/R5dat79+6aN2+eSpUqpS5duhgfcvlx+t4IhZePuyT973//O23hKdjvp5Mf+HmnMgIoHLp376777rtPv//+u66//nqdc845xpoPP/xQHTt2VPPmzTV37lxVqlRJxYoV04IFC/KdCpsfr//+cNKpjWPdOvmZuWjRIlWsWNH4et6JgAAAbzRq1Mja1zWv/D5P9u/frxYtWqh06dIaP368atasqYSEBH311VcaOnRowL+RZsyYoZ49e2rFihVavXq1+vXrp0mTJunTTz9V1apVlZOTI5/Pp1WrVln3tf1GEeC1Qvs3kosuukjSn9MA/vKXv+TGN2zYoF9//VXjx483mnXu27dPvXv31j//+c+gx7CnpKRoy5Yt8vv9AT8hPXlF1enUrFlT7733npo0aXJG/+i+9NJL9eGHHyonJyegcPDZZ5+pZMmSql27tmNulSpVlJycbG14/fnnn+vSSy8N+jxnomnTpjr//PO1fv16TZkyxXHdm2++qaysLL3xxhsBlX83l3ympKRo06ZNxuN08tLTlJSUEO6Bez/++KMSEhJO+6YdExOj+vXrW5+Xzz77TBdccIFxBdGZ6N69u0aPHq3ffvtNixYtCvn2bFJSUvTee+8ZReBIPO5S/oXcYL+fTk4cCbb5LwDv3XLLLerTp48+/fRTvfLKK9Y1r732mhISEvTuu+8G/KBlwYIFAetSUlKUk5Oj9PT0gJ8Cu/mcD8bprp4sW7as0dQ1OzvbKJanpKTkXs2U1/fffx/w55o1a0r6c3iI0xRgAEDht379eu3du1fLly9X8+bNc+N5J+PlVb9+fdWvX18jR47UJ598oiZNmmj+/PlKTU1VzZo15ff7VaNGjdP+OxIIp0Lb4+mvf/2rJBn/cD/5a3aPPPKIbrvttoD/7rvvPtWqVcvxyqPTadu2rXbu3Kk33ngjN3b06FE9++yz+eZ27txZJ06c0GOPPWZ87fjx4/lODrjtttv0xx9/aPny5bmxPXv2aOnSpbrxxhsD/iJtG0nfqVMnrVy5MmA85vvvv6///Oc/uWOdvebz+fTEE09ozJgx6tGjh+O6k1X3vD8tzsjIMP6BYNO+fXv9/vvvAf/4OH78uJ588kklJSWpRYsWrs66detW/fzzz/muO3XEqfTnxL433nhDbdq0CShq/Pzzz7mFmJNuu+02ffHFFwGv4e+//15r164tsOelZs2amjVrliZNmhTQC6QgtW/fXidOnNBTTz0VEH/88cfl8/l0/fXXu7od22vXxva479y5U88//7z+8pe/5F7lJ/15FdPWrVsDJkcG8/0kSRs3blSZMmVUt25dV/cDQPgkJSVp3rx5Gjt2rG688UbrmtjYWPl8voCrhnbs2KF//vOfAevatm0rSZo7d25A/MknnyzQMycmJkqS9bO/Zs2a+uCDDwJizzzzjHHFU/v27fXpp5/q888/z43t3r3b+PtN27ZtVbp0aU2cONE6Qdf2fgoAKHxs/0bKzs42PrMOHDig48ePB8Tq16+vmJiY3F81v/XWWxUbG6tx48YZV+j6/X7t3bvXi7sAnFahveLpggsuUL169fTee+/pnnvukfRnv5zXXntN1113nWNj7I4dO2r27NnatWuXY88lmz59+uipp55St27d1L9/f1WqVElLlizJ3ed0P8Fs0aKF+vTpo0mTJumbb75RmzZtVKxYMW3btk1Lly7V7NmzHftSSH/+Q/nqq69Wr169tGXLFp133nmaO3euTpw4YYxtPjmOPm+T5hEjRmjp0qVq1aqV+vfvr0OHDmnatGmqX7++evXq5foxkKSxY8dq3LhxWrdunVq2bBlU7k033aSbbrrptGvatGmj4sWL68Ybb1SfPn106NAhPfvssypfvrz116Py6t27t55++mn17NlTGzduVPXq1bVs2TJ9/PHHmjVrlusriC6++GK1aNEi3wbjXbp0UYkSJdS4cWOVL19eW7Zs0TPPPKOSJUtq8uTJAWvvuusubdiwIeDN/f7779ezzz6rDh066OGHH1axYsU0c+ZMVahQwWiS3bJlSyPfrf79+wedE4wbb7xRrVq10qOPPqodO3aoQYMGWr16tVasWKEBAwbk/sQ9P7bXrs2QIUNyfyWzcuXK2rFjh55++mkdPnzYGCU+fPhwvfDCC0pPT1f16tUlBff9JP3ZnPfGG2+kxxNQSN19992n/XqHDh00c+ZMtWvXTt27d9euXbs0Z84cXXjhhQG9HBs2bKhOnTpp1qxZ2rt3r66++mpt2LBB//nPfyQVXJ+3Sy+9VLGxsZoyZYoyMjIUHx+va665RuXLl9ff/vY39e3bV506ddJ1112nb7/9Vu+++67xq75DhgzRokWL1K5dO/Xv31+JiYl65plncq/8Pal06dKaN2+eevToocsvv1xdu3ZVcnKyfv75Z7311ltq0qSJ8UMDAEDh07hxY5UtW1Z33323+vXrJ5/Pp0WLFhn/Nli7dq0efPBB3X777apdu7aOHz+uRYsWKTY2Vp06dZL05w85UlNTNXz4cO3YsUM333yzSpUqpfT0dL3++uvq3bu3Hn744UjcTRRhhbbwJEn33HOPRo8erczMTJUoUUJvvfWW9u/f7/hTT+nPfyTPmDFDL7/8sjGF63SSkpK0du1aPfTQQ5o9e7aSkpJ01113qXHjxurUqVO+E+Dmz5+vhg0b6umnn9aIESMUFxen6tWr684771STJk1OmxsbG6u3335bjzzyiJ544gllZmbqyiuv1MKFC41GojbVqlXThg0bNGjQIA0bNkzFixdXhw4dNGPGjKD7Ox06dEg+n8/aK6Ig1KlTR8uWLdPIkSP18MMPq2LFivr73/+u5OTk3AKjkxIlSmj9+vUaNmyYXnjhBR04cEB16tTRggUL1LNnzwI/680336wlS5Zo5syZOnDggJKTk3XrrbdqzJgxrprOlypVSuvXr9fAgQOVmpqqnJwctWzZUo8//rjx62KHDh3y7DEPVUxMjN544w2NHj1ar7zyihYsWKDq1atr2rRprqbMBatNmzaaP3++5syZo3379umcc85R8+bNNXLkSF1++eX55gfz/bR161b9+9//1qxZswr8fgAIj2uuuUbPPfecJk+erAEDBqhGjRqaMmWKduzYEVCkkaQXX3xRFStW1EsvvaTXX39drVu31iuvvKI6deoU2KTXihUrav78+Zo0aZLuvfdenThxQuvWrVP58uV13333KT09Xc8995zeeecdNWvWTGvWrMktzJ9UqVIlrVu3Tg899JAmT56scuXKqW/fvqpcubLuvffegLXdu3dX5cqVNXnyZE2bNk1ZWVmqUqWKmjVrFvQPnwAAkVGuXDmtXLlSgwcP1siRI1W2bFndeeeduvbaa3Ov2JWkBg0aqG3btnrzzTe1c+dOlSxZUg0aNNCqVat09dVX564bNmyYateurccffzz3B6/VqlVTmzZtAqa4A+Hi8xd0h8wClJGRoQsuuEBTp041/qIVLrNmzdLAgQP166+/BozEPFs1atRIKSkpWrp0aaSPombNmik+Pl7vvfdepI/iqYMHD+rcc8/VrFmz9MADD0T6OEXKgAED9MEHH2jjxo1c8QQUUd98840uu+wyLV68WHfccUekjwMAAHDWKbQ9niSpTJkyGjJkiKZNm1ag086cZGZmBvz56NGjevrpp1WrVq0iUXQ6cOCAvv32W40fPz7SR5H0Z/+eojBp7IMPPlCVKlV03333RfooRcrevXv1j3/8Q6mpqRSdgCLi1M956c8fMMXExAQ0cwUAAEDBKdRXPIXb9ddfr/PPP1+XXnqpMjIytHjxYm3evFlLlixR9+7dI328IuOTTz7R8uXLNWPGDD3zzDMUZAAABWLcuHHauHGjWrVqpbi4OK1atUqrVq3K7SEIAACAgkfhKY9Zs2bpH//4h3bs2KETJ07okksu0ZAhQ9SlS5dIH61I6dWrl1atWqVu3bpp2rRpiosr1K3IAABRYs2aNRo3bpy2bNmiQ4cO6fzzz1ePHj306KOP8lkDAADgEQpPAAAAAAAA8ESh7vEEAAAAAACA6EXhCQAAAAAAAJ6g8AQAAAAAAABPuO6kybhxAChYtNgLxOcMABQsPmdMY8eONWKxsbHWtcePHzdio0aNMmIDBw605tumZfbr18+IpaSkWPPff/99I/bHH38YsV69elnzt27dasTq1atnxCpWrGjN79atmxGbM2eOEVuzZo013/a41K1b17p28ODBRmzYsGFGrHPnztb81NRUa/xU69evt8aPHDlixNq3b+863xZv2bKlq9jpbtdt/nXXXWfEJkyYYMQaNWrken+398lJ9erVjdiOHTusa+fPn2/EbN+XderUsea/9957Rmz69OlGrEKFCtb8mTNnGjGns44cOdKIfffdd0asVatW1vyXXnrJiJUqVcqIde/e3ZpvO9eHH35oxGzf/5LUt29fIzZ8+HBXMUn697//bcTS0tKsa/PiiicAAAAAAAB4gsITAAAAAAAAPEHhCQAAAAAAAJ6g8AQAAAAAAABPuG4uDgAAAADR7LHHHjNi8fHx1rWZmZlGLCsry4gNGDDAmm9rhGxr7Fu/fn1rvq058D/+8Q8jNn78eGv+pk2bjNgVV1xhxJzuv63hsq25utP+t99+uxEbN26cde3q1auNWNOmTY3Y/v37rfn/+9//XJ3L6ay2uK2R9jvvvOM63xZr3ry5Nd/WyDuY82/YsMHVWqfm4F9++aURsz3/wTx+wZzf9loPJt/WcHvLli1GzNYwX5L+7//+z4i99tpr1rW9e/c2YosXLzZitobvktS/f38j1rZtWyPm9L3y8ssvGzHbIIMnn3zSmn/eeecZMdsghaFDh1rzt2/fbo3nhyueAAAAAAAA4AkKTwAAAAAAAPAEhScAAAAAAAB4gsITAAAAAAAAPEHhCQAAAAAAAJ5gqh0AAACAIsE2KapUqVLWtQcOHDBiAwcONGL33XefNf/TTz81Yrbpa88++6w1/+OPPzZiDz30kBGbP3++Nf+JJ54wYrb7NH36dGu+bYKdbSqg0/StUKfKkU9+Qec7vVZtr+uxY8da1y5ZssRV/ksvvWTNv+GGG4zYV199ZcSmTp1qza9du7YRGz58uBH7+uuvrfnZ2dlGzHZWp8f68ccfN2K2CYin4oonAAAAAAAAeILCEwAAAAAAADxB4QkAAAAAAACeoPAEAAAAAAAAT/j8fr/f1UKfz+uzAECR4vLtt8jgcwYAChafM6bixYsbsXLlylnX7t6924j169fPiD3wwAPW/C+++MKI3XXXXUasU6dO1vw33njDiPXv39+IpaenW/PXrVtnxCZOnGjEbI2RJXsjZi8aPgezlnzyI5kfzNrRo0db80eOHGnEbO9LTvvPmzfPiD355JNGzPZeI0l79uwxYrb3mkceecSan5OTY8QyMzOta/PiiicAAAAAAAB4gsITAAAAAAAAPEHhCQAAAAAAAJ6g8AQAAAAAAABPxEX6AAAAAAAQDraG2VWqVLGu/fnnn43Ygw8+aMQefvhha/7//d//GTFbI+/u3btb8y+77DIjVqtWLSP2wgsvWPNtjcRtDYtpLk4++QW/1vb9J0ljx441YqmpqUbM9v0nSZUqVXJ1m7/88os13/a+tnr1aiPmdP/Lly9vjeeHK54AAAAAAADgCQpPAAAAAAAA8ASFJwAAAAAAAHiCwhMAAAAAAAA8QeEJAAAAAAAAnvD5/X6/q4U+n9dnAYAixeXbb5HB5wwAFCw+Z0zx8fFGzDYpTpK+//57I3b//fcbsdGjR1vzN2zYYMR69OhhxG6//XZrfs+ePV3FnPY/GyeFkU9+JPPDuZfTVLwKFSoYscmTJxuxe++915q/bds2I7Z+/XojNnjwYGt+7dq1jdiXX35pXZsXVzwBAAAAAADAExSeAAAAAAAA4AkKTwAAAAAAAPAEhScAAAAAAAB4Ii7SBwAAAACAcBg7dqwRu/zyy61rv/jiCyP24IMPGjGnJsCrV682YrZG4A0aNLDm33333UbMdv5x48ZZ82nYTD75BZsfzr3GjBljzf/tt9+M2KWXXmrEdu7cac3fvHmzEfv4449dnUlyfr/KD1c8AQAAAAAAwBMUngAAAAAAAOAJCk8AAAAAAADwBIUnAAAAAAAAeILm4gAAAACKBFsj7u7du1vXLliwwIjt3bvXiM2YMcOaf+211xqxmBjz5/69e/e25tsaiRfGJsjR1LCZfPJDyQ/nXo899pg13/YeZmsOXrp0aWv+d999Z8Q++eQTIzZkyBBr/hVXXGHEWrVqZV2bF1c8AQAAAAAAwBMUngAAAAAAAOAJCk8AAAAAAADwBIUnAAAAAAAAeILCEwAAAAAAADzBVDsAAAAARYJtetRzzz1nXTty5Egj9sgjjxix1NRUa/6xY8eM2IsvvmjEbFOqJKbakU9+YcsP515O7wu2tbZpmVOmTLHm33333Ubs9ddfN2JO72tXXnmlNZ4frngCAAAAAACAJyg8AQAAAAAAwBMUngAAAAAAAOAJCk8AAAAAAADwhM/v9/tdLfT5vD4LABQpLt9+iww+ZwCgYPE5YypTpowRe/nll61rW7RoYcSGDx9uxK6++mpr/sCBA43YpEmTjJhTE2Jbc+HC2AQ5mho2k09+KPnh3CvUfKfm4KNHjzZi06ZNM2JOzckbNmxoxFasWGFdmxdXPAEAAAAAAMATFJ4AAAAAAADgCQpPAAAAAAAA8ASFJwAAAAAAAHiC5uIAECE0fQ3E5wwAFCw+Z0xPPfWUEVu2bJl1ba1atYzYsGHDjJitCblkb/j72GOPGTFbE3Gn/MLYxLgoNWwmv2jnh3OvUPNt7zVOcdt70MyZM635jRo1MmL169e3rs2LK54AAAAAAADgCQpPAAAAAAAA8ASFJwAAAAAAAHiCwhMAAAAAAAA8QeEJAAAAAAAAnmCqHQBECNOGAvE5AwAFi88ZU7Vq1YyY01S7/fv3G7GhQ4casX79+lnzo2X6VaTzw7kX+eSHkh/OvbyaamdbO3bsWCM2ceJEa367du2M2KJFi6xr8+KKJwAAAAAAAHiCwhMAAAAAAAA8QeEJAAAAAAAAnqDwBAAAAAAAAE/QXBwAIoSmr4H4nEEovHr9hHq7Xnyf894Bt3itmF566SUj9tprr1nXfv3110bM1oR31KhR1vxoaUIc6fxw7kU++aHkh3Mvr/JtTcdt72tOzclnzJhhxNLT061r8+KKJwAAAAAAAHiCwhMAAAAAAAA8QeEJAAAAAAAAnqDwBAAAAAAAAE/ERfoAAAAAwTTxtq11yg9mbajnsnHb3NlpnS3uNhbqmYCz0dSpU43Y6tWrrWvfeustIzZ69GgjVlibCEdLfjj3Ip/8UPLDuZdX+ePGjTNitkbiTvlPPfWUNZ4frngCAAAAAACAJyg8AQAAAAAAwBMUngAAAAAAAOAJCk8AAAAAAADwBIUnAAAAAAAAeMLndznaJNSpLgCAQEyWCsTnzNnJ7fMaE2P/WZgt37bWKd/t2mD2D4bt+zwnJ8dVLJi1Tvlu93fC+1R04/kzrV271oh9+eWX1rXz5s0zYrZJT7YpUU5ro2n6FZPCyCc/cnsV1vzp06cbse3bt1vX5sUVTwAAAAAAAPAEhScAAAAAAAB4gsITAAAAAAAAPEHhCQAAAAAAAJ6Ii/QBAABA9HNqwh1qc++4OPOvKm5jTvHY2FhXsdOdyy1bI+8TJ064iknS8ePHzzjmFA+1uTkNqxHNnnjiCSP2+eefW9dOnjzZiEVTE+BoyQ/nXuSTH0p+OPcqrPmTJk2yxvPDFU8AAAAAAADwBIUnAAAAAAAAeILCEwAAAAAAADxB4QkAAAAAAACe8Plddoh0ahoKADgzNOgNxOdM4WR7XmwxpybctqbdtobfxYsXt+bb4rZYfHy8Nd/tXsGc33b/nb6fbU3DbQ27s7Ozrfm25uBZWVmu821xW8ypObnb8zvdf97nIovH33Tw4EEj9tprr1nXpqamGrHHHnvMiI0bN86aH+kmwNGSH869yCc/lPxw7lVY8ydMmGDE0tPTrWvz4oonAAAAAAAAeILCEwAAAAAAADxB4QkAAAAAAACeoPAEAAAAAAAAT1B4AgAAAAAAgCfMUS8AAKDIcZoqaIu7nVQn2SfIJSQkuIpJUokSJULKdzsVz3afJOdpd27ZJsDZJsUFM5Xu6NGjrmKSlJmZGVK+2wl4tvvkhElriKRly5YZMduUJsk+1ck2wa6wTp+Klvxw7kU++aHkh3Ovwppvm+zpBlc8AQAAAAAAwBMUngAAAAAAAOAJCk8AAAAAAADwBIUnAAAAAAAAeMLnd9nh0anpKADgzNBgNxCfM+Fje6ydHn9b0+1ixYoZsWCagycmJhqxkiVLWvOTkpJc3abT/vHx8UbMdn5bTLI3F7c9Vk7fz7bm4seOHXMVk6SsrCwjZmsEbmsiLkmHDh0yYkeOHDFihw8ftua7bU7udH5b03HbY8X7oTd4XE1XXHGFERs0aJB1baSb+BaV/HDuRT75oeSHc6/Cmm9rLv7DDz9Y1+bFFU8AAAAAAADwBIUnAAAAAAAAeILCEwAAAAAAADxB4QkAAAAAAACeoPAEAAAAAAAAT8RF+gAAAMAbTpPqbHHb9DpJKl68uBGzTZCzTZ9zipcqVSqk/GCm2tnitvsUF2f/K5HT4+KWbarb8ePHjVh2drY13zZBLpipdrb7b5t05zTVz/a4BDMV0Xa/bI+JE6ayoaDNmDHDiPXp08e6NtLTo4pKfjj3Ip/8UPLDuVek88eNG2fNt021c4MrngAAAAAAAOAJCk8AAAAAAADwBIUnAAAAAAAAeILCEwAAAAAAADzh87vs2ujUNBIAcGZomhuIz5mCFxNj//mSrWG2U3NpWyNvW3Pw0qVLW/Nt8WDybc3FExMTjVgwzcVt9zXSzcWPHTtmzXfbXPzw4cPWfFsj8QMHDhixgwcPWvNta4PJtzU9t91Xp4bjOTk51jjc4XPG1L59eyPWs2dP69poaQIc7fnh3It88kPJD+de4cy3NRJ3aiJuW7tt2zbr2ry44gkAAAAAAACeoPAEAAAAAAAAT1B4AgAAAAAAgCcoPAEAAAAAAMAT9k6aAAAgqtiaszs1F7c10nZqzm1r7m1rBH7OOedY88uUKeMqZms47hQvWbKkEbM1QZek+Ph4I1a8eHEj5tRc3PYY2h5rpybOtubYtubi2dnZ1vysrCwjZmvY7fT82e5rMM3VnV5Dp3K6/7a421iwawE3Jk2aZMTuuOMO69rC2AT4bMwP517kkx9Kfjj38irfbSNx2zqntW5wxRMAAAAAAAA8QeEJAAAAAAAAnqDwBAAAAAAAAE9QeAIAAAAAAIAnKDwBAAAAAADAE0y1AwAgyridYBcbG2vNt006c5oK53aqnW1SnSSVLVvW1VrbPpJ9ql1iYqIRK0pT7WwT7Gz3SbK/Bmz31e30Osl+n06cOGFda7uvtrW225Tsj2swa4FTTZgwwYgV1ulTRSU/nHuRT34o+eHcK9T8YKbSuZ1057S2a9eu1rV5ccUTAAAAAAAAPEHhCQAAAAAAAJ6g8AQAAAAAAABPUHgCAAAAAACAJ2guDgDAWcDWHNqpYbatObWtYbdkb+5tizk1F7fFbTFbw3LJ3nS8ZMmSRsypubjtvhYrVsyIOT1WtubcwTQXtzXStjXcPnbsmDX/6NGjRszWSNx2nyT7/XJqOm/jtjm6LSbZ71cw+bb9nZqLA27YGuN269bNujZamghHe3449yKf/FDyw7lXMPmhNgd323D8dLebH654AgAAAAAAgCcoPAEAAAAAAMATFJ4AAAAAAADgCQpPAAAAAAAA8ATNxVHo2Jq22mIFwdYM1qlBLACEm9N7n62RuC1ma0It2Rtu2xp2S/bm3rZG4LaG417l2xqhOzUXj4+PN2K2RtxOzbmDacRtY2submu47dRc3G0jcadzuv38tJ1Tct8IPZjm6FlZWUYsOzvb9f6217pkbzrOZzpO9eijjxqxaGoifDbmh3Mv8skPJT+ceznle9EcPNTm5Lfddpt1bV5c8QQAAAAAAABPUHgCAAAAAACAJyg8AQAAAAAAwBMUngAAAAAAAOAJCk8AAAAAAADwBFPtEBZOU3VscbfTmk53u6dymmpjm4ATzFQcpuUAiATbe19cnPmR7jTVzjYBzjY9ziluizlNpbPF3d6mU75tAp/TVDvbBL9gpsLZHlfb4+/0eWCbyuZ20p3k/qxOn5M2trPazinZz2qbQGebVCfZp9q5jTnt5TSBD3Cjd+/eRmzkyJHWtZGeXlVU8sO5F/nkh5Ifzr3COZUu1Kl4bnDFEwAAAAAAADxB4QkAAAAAAACeoPAEAAAAAAAAT1B4AgAAAAAAgCdoLo4CZ2u66tS01Ra3NcO1NVc93e2eyqkRqa2ZazCNTG1xGo4DKChOAxRsjaSDaS5ua7jt1JzbFk9MTDRitobfway1rQtmrdP54+PjjZjtcbE9fpL9sQ6mubhtYIWtkbfts0cKvZG4bf9gmpvbzmVrBH7kyBFrvu15sb3+nF6rtufF6azBDAdB0dWtWzcjtmTJEuvaaGl4HO354dyLfPJDyfdqr0g3Bw91/5tvvtm6Ni+ueAIAAAAAAIAnKDwBAAAAAADAExSeAAAAAAAA4AkKTwAAAAAAAPAEzcUREreNxJ2ag7ttWuvUdNbWoNTG1ghVkg4fPuwqlpmZ6WofiYbjAM6M7f001Obitsbakv290+n91O3aYJqTu40VRL7tMbB9Jjl9TnnRXNzWHNtpWIbbRuK2fST3jcSdmpvbPj+9eP04vVZtr2unx8Tt9xCfyUXb4MGDjVikGxYX9fxw7kU++aHkF8RehbE5eKj7u8EVTwAAAAAAAPAEhScAAAAAAAB4gsITAAAAAAAAPEHhCQAAAAAAAJ6g8AQAAAAAAABPMNUOIXE71c5p2lDZsmWNWHJyshGrWLGiNb9MmTL5HVGSlJGRYY3//vvvRmz37t2ublOyTxGyxZigA+BMhDrVzhaTpOLFixuxUCfgOeXb4sHku10bzP62++/0WDlNm3PLNlXOdptup9dJ9s8Z2z6SfYKd7TF1mv7q9vlzmmoX6uMf6lQ74FSjRo0yYu+++651bbRM2or2/HDuRT75oeQHszaaptKFuv8NN9xgXZsXVzwBAAAAAADAExSeAAAAAAAA4AkKTwAAAAAAAPAEhScAAAAAAAB4gubicCWYBre2pqGJiYnWfFsj8Tp16hixCy+80Jrv1HT8VLYm4pK0fft2V/nZ2dnWuK1pq63Bq1NzcZqOAzidYN57bQ2rbe/HTvFixYqFtDbUvZz2d7tXMOcPprm17bG2PS9O7+fhaiRu+zyS3D/WoT5/Tvlu1zrlB/P40VwcbowZM8aIRbphcVHPD+de5JMfSr5TPNqbg4e6vxtc8QQAAAAAAABPUHgCAAAAAACAJyg8AQAAAAAAwBMUngAAAAAAAOAJmovDlWAa3NoaiTo1F7c1B7c1Er/yyiut+TVq1LDGT5Wenu5qnSRlZGQYsf3791vXHj582IhlZWUZMVtzWInm4gDOjNvm4k5NmG1rnZpz25puu40Fs9Zpf9tZg8kP9fyhNhd3ev93u852v44fP27EbI+TU74Xz59Tvm3/UF+rwTRnB041duxYI9a8eXPr2mhpeBzt+eHci3zyQ8mXzs7m4KHu365dO+vavPjkBgAAAAAAgCcoPAEAAAAAAMATFJ4AAAAAAADgCQpPAAAAAAAA8ASFJwAAAAAAAHiCqXYIiW2yj20CTUJCgjW/TJkyRsw26c5pel3t2rXzO+Jp/fLLL67O5HR+2311mgAIAKdje+9wej+xxd1OunNaG8xUsWAmjbk9l9NZbdPSQj1/qPnBTLWz8eK5cpoqF+nnz+35g8kP5vsi1OcKZx/bVLv169db10bLpK1ozw/nXuST7za/KE2lC3V/N7jiCQAAAAAAAJ6g8AQAAAAAAABPUHgCAAAAAACAJyg8AQAAAAAAwBM0FwcA4CwVzLCDUAcjhNrwOZjbDddtBnO7Rf3+B7OXF/sAbtmai3/wwQfWtYWx4fHZmB/Ovcgn3ybSzbmjff/WrVtb1+bFFU8AAAAAAADwBIUnAAAAAAAAeILCEwAAAAAAADxB4QkAAAAAAACeoLk4QuL3+43YiRMnjNjRo0et+RkZGUbs999/N2Lp6elncLr882172c7kdH7bfbU9JgAQCcG8H4X63uWUb4uHeq5w3aZT3NYIuyjd/2C4zeezE+Fia4z74YcfWtdGuuFxUckP517kF+38UBtuB7M2mpqDh7q/G1zxBAAAAAAAAE9QeAIAAAAAAIAnKDwBAAAAAADAExSeAAAAAAAA4AkKTwAAAAAAAPAEU+3gitO0mZycHCN27NgxI3b48GFrvm2q3Pbt212f65dffnG1zraP0162tU7nt91X22PCtB4A+Ql10pjtvcc2edNprS3mdBu2mFO+23M5nfX48eOubjOY88fGxrrOtwlmqp3bs4b6XNkeJ6fbDefz58X992qCIIqGsWPHGrGPP/7YujZaJnVFe3449yK/6OR7MektmLXRNJUumP1tj3XLli2ta/PiiicAAAAAAAB4gsITAAAAAAAAPEHhCQAAAAAAAJ6g8AQAAAAAAABP0FwcrgTTNDU7O9uIOTXn3r17t6v9MzIyrPEyZcqElG9rJG47k9P5bfeV5uIAvOa2OXMwDbdtwxIke9Nqt7Fg1jrtbztrMPm2RuIxMe5/7mZbG2pz8WAeP9v9sq11as7tNj/U5y+Y84f6Wg2mETxwKltz8WhqmHw25odzL/LPzvxwNdwOZm1hbQ7udm0wz5UbXPEEAAAAAAAAT1B4AgAAAAAAgCcoPAEAAAAAAMATFJ4AAAAAAADgCZqLIyS2Zqq2RqCZmZmub9PWsHv//v3WtQkJCa5u8+jRo9a4rWm4LeZ0ftt9pZE4gIISTMNq2/uR7f3UKe7UnNvt2lD3ctrf7V62JuKS+0biTg2rnW7XLbfN0Z0eP7f3P5jHz4vnL9TzO+UH01ycz1+4MWbMGCP2+eefW9dGumFyUckP517kR3d+pBtuB7M20mcNZv9Qn6vVq1db1+bFFU8AAAAAAADwBIUnAAAAAAAAeILCEwAAAAAAADxB4QkAAAAAAACeoPAEAAAAAAAATzDVDiFxO9XOiW0yjW0Cjm3SnOR+2pDTmdxO23HKZ6odAC8FM9XONinNFpPs73NZWVnWtbapoLaYU74tbssvXry4Nb9YsWJGzPbe73Z6nWR//Gz7ON2uz+czYsE8V8FM9bM9fm4f02DWhvr8BbO/7fXn9Fq1xZlqh1CMGjXKiH399dfWtdEy6Sva88O5F/nRkx/pSW/RNJUumP29eK7c4IonAAAAAAAAeILCEwAAAAAAADxB4QkAAAAAAACeoPAEAAAAAAAAT9BcHAUumIbjtgahtrVOTU9tDV7dnslpf1vMKZ9GpgAKiu39JNTm4qE2DA9mbWZmpjU/ISHBiNkaiTs19/aikbjtc8apubUXzcVte9kabkv259D2WDs9/m7XBpPvxevH6bUaanNxPqdxqsGDBxuxH3/80bq2MDZcPhvzw7kX+YUzP9INt6OpObjbteF8rt9++23r2ry44gkAAAAAAACeoPAEAAAAAAAAT1B4AgAAAAAAgCcoPAEAAAAAAMATNBdHWATTnNsWc2okGioakQIozLxqWB1Mc3Bb/PDhw0bM1kRcct9I3NZEXHLfSNzpc8LWSPzYsWOu94+LM/+qFExzcdvz4vZMkvvn6siRI9Z823NlW2tbF8zaUJuTO71WQ20uDpyqW7duRiw+Pt66NtINl4tKfjj3Ij+y+ZFuuB3q/sGsDedZI/1cu8EVTwAAAAAAAPAEhScAAAAAAAB4gsITAAAAAAAAPEHhCQAAAAAAAJ6g8AQAAAAAAABPMNUOhQ6T5gDg9GzvicFMtbNNGjt06JB1rW1anW0ClG16nWSfFud2UpwT21Qz26Q4yT4tzjZVzxaTnKfdueV2gp3TVLusrCwj5nbSoGR/Xm2xgwcPWvNtcbe36RS3nT+YqXb8nQCh6N27txGrWbOmdW20TAqL9vxw7kV++PIjPenNi/2DWevVWQvjc/3GG29Y1+bFFU8AAAAAAADwBIUnAAAAAAAAeILCEwAAAAAAADxB4QkAAAAAAACeoLk4AACFlFMTZVtzbVvMqWHz0aNHjdiRI0esa23NoYNpzm1rJB5Mw27bY+C2Ybdkb45uO6vtnJL9rLZG6E7Ple2stobZTue3PVe25tzBPH8HDhxwtU6yNxcPJt92Ltt9cnqtun2tSzQdhzsjRowwYnXr1rWuLYxNfM/G/HDuRb43+ZFuuB2u/YNZG+pZC+tz7RTPD1c8AQAAAAAAwBMUngAAAAAAAOAJCk8AAAAAAADwBIUnAAAAAAAAeILm4gAAnAVsDZdtTawle3Nnp+babhtxO+XHxLj7GZetCbfkvhF3MI3UixcvbsSCOX8wzcXdPi9O58/KyjJitubihw8ftubbmoPbGoFnZGRY821x223aYk7nsj0nTq9Vp0biwJmyNcaluTjNxcl3tzbSDbcjvX8wa4M5a2F8roPJX758uXVtXlzxBAAAAAAAAE9QeAIAAAAAAIAnKDwBAAAAAADAExSeAAAAAAAA4AkKTwAAAAAAAPAEU+0AAIgytglqtulfTpPibBPUbJPSJPu0t9jYWCPmdnqdFNwEPtt9sJ3fNilNkuLj443Y2TjV7siRI9Z8txPogplqd+DAASNmm5Qn2c9qu69Or1Xb4+f0WANuTJgwwYhddNFF1rWFcXrU2Zgfzr3Id58f6UlvhXH/YNY6nbUwPteh5rvBFU8AAAAAAADwBIUnAAAAAAAAeILCEwAAAAAAADxB4QkAAAAAAACeoLk4AABnAbcNxyV7c2un5ty2Rtq2mBO3zbWPHTtmzXfbSDwhIcGab4sXK1bMiDk1F7c1Ug+GrWl2MPffdl9tscOHD1vzbU2/bc3BbQ3HndYG01zcdlbb/Xd6rdJIHAVt0qRJRqxmzZrWtYWxie/ZmB/Ovci35xeV5uCh7h/M2sL6XHuR/+qrr1rX5sUVTwAAAAAAAPAEhScAAAAAAAB4gsITAAAAAAAAPEHhCQAAAAAAAJ6guTgAAGcpp8bMtobXTtw2Eg9mr2Caa2dlZRmxI0eOGLFgmosXL17ciEW6ubitibrkvrl4ZmamNd/W9NsWc2ou7jbfqTm97Xm1PSY0EUe4TJkyxYhVrVrVurYwNvE9G/PDuVdRz490c+5o399pbWF8rr3Kd3oO8sMVTwAAAAAAAPAEhScAAAAAAAB4gsITAAAAAAAAPEHhCQAAAAAAAJ6g8AQAAAAAAABP+Pwux4i4nWoDAHCHKU6B+JwJH9tj7fT426a6FStWzIg5TZUrUaKEEUtMTDRiJUuWtOYnJSW5uk2n/ePj442Y7fy2mCTFxJg/o7M9Vk7fzzk5OUbMNuktmKl+oU61s00FPHz4sDXfdru2/Z3O73aCHe+H3uBxNW3cuNGIlS1b1ro20tOjikp+OPcqSvmFcSpctO8vFc7nOtL5aWlp1rV5ccUTAAAAAAAAPEHhCQAAAAAAAJ6g8AQAAAAAAABPUHgCAAAAAACAJ+IifQAAABBewTQctjWHDuY2bfnHjx83YrYm2pK9kbWtkbhTc/HixYu7itmaqEv25uLBsDUXtz0m2dnZ1nxb3PaY2GKS++bgTvm2/W3Pn9PrhEbiKGzmzJljxGzfp1LhbOJ7NuaHc6+zNT9amnNH0/6F9bmOdH5qaqo1nh+ueAIAAAAAAIAnKDwBAAAAAADAExSeAAAAAAAA4AkKTwAAAAAAAPCEz++yw6PP5/P6LABQpNBgNxCfM4WT7XmxxZyacNuadsfFmbNNbA2/neK2WHx8vDXf7V7BnN92/4Nprm5rZOzUXNxtI/ZgmpO7bRguuT+/0/3nfS6yePxNpUuXNmKbNm2yrrU10Q2mYXGkmwBHS34494r2/Ghqzh1N+xfG57qw5k+cONGIPf/889a1eXHFEwAAAAAAADxB4QkAAAAAAACeoPAEAAAAAAAAT1B4AgAAAAAAgCcoPAEAAAAAAMATTLUDgAhh2lAgPmeim9PzZ5sW5zYm2afSuY05xW2T6myx053LLdsEONukOFtMsk+bcxtzitvOZIs5xXnvih48V6YVK1YYsddee826dsqUKUYsmEljkZ4+FS354dwrmvKjaSpctOzPazX0/OnTpxux8uXLW9fmxRVPAAAAAAAA8ASFJwAAAAAAAHiCwhMAAAAAAAA8QeEJAAAAAAAAnqC5OABECE1fA/E5c3Zy+7w6NfG25QfTnDzU5uahvi5t3+ehNvcOJt/t/k54n4puPH+ma665xog99dRT1rVPPvmkEaO5OM3FvciPlubc0bQ/r1V7vtvH1emxnjdvnhGbOnWqdW1eXPEEAAAAAAAAT1B4AgAAAAAAgCcoPAEAAAAAAMATFJ4AAAAAAADgCQpPAAAAAAAA8ART7QAgQpg2FIjPmaItmOffttYpP5i1oZ7Lxu33udM6W9xtLNQzIfrxXJu+/vprIzZ06FDr2pdeesmIjR071ogx1Y5JYW7XRtNUuGjan9eqGQvmubLFxowZY81PS0szYsePH7euzYsrngAAAAAAAOAJCk8AAAAAAADwBIUnAAAAAAAAeILCEwAAAAAAADwRF+kDAAAAhNoc26vm9OFqLh7p2wSKimnTphmxhx9+2Lp28uTJRszWsNfWcFyKnibEkc4P517hzI+m5tzRsn+kn/9w7uVVvu1xHTlypBF79NFHrfkNGjSwxvPDFU8AAAAAAADwBIUnAAAAAAAAeILCEwAAAAAAADxB4QkAAAAAAACe8Plddqj0qmknABRVNAgOxOcMABQsPmdMv/76qxG75ZZbrGu///57I9a3b18jZmvMK0W+iXC05IdzL6/yo6U5dzTtXxif/3DuFWp+MM/V/fffb8SGDBlizd+4caMRy8jIsK7NiyueAAAAAAAA4AkKTwAAAAAAAPAEhScAAAAAAAB4gsITAAAAAAAAPEHhCQAAAAAAAJ6Ii/QBAAAAACAcJk+ebMRGjRplXXvs2DEj1qVLFyN2/Phxa35qaqoRC3X6VGGcnlWUJoVF01S4aNo/Wp7/cO7l1WvVtvaiiy4yYvPnz7fmN27c2BrPD1c8AQAAAAAAwBMUngAAAAAAAOAJCk8AAAAAAADwBIUnAAAAAAAAeMLn9/v9rhb6fF6fBQCKFJdvv0UGnzMAULD4nDEdOHDAiDVp0sS6NikpyYj16dPHiHXr1s2a/+ijjxqxiRMnGjGaixfOs0ZTc+5o2T+anv9I7xXqa9X2XiNJgwcPNmK1atUyYk899ZQ1f9myZUasVatW1rV5ccUTAAAAAAAAPEHhCQAAAAAAAJ6g8AQAAAAAAABPUHgCAAAAAACAJ+IifQAAAAAACIfU1FQjNnDgQOvalJQUIzZo0CAjduTIEWv+ww8/bMTGjh1rxCZMmGDNp7l4+PKjpTl3NO0fTc9/YdwrmPxRo0YZsWnTplnzbY3Ebfm24QqSNGTIECP2xRdfWNfmxRVPAAAAAAAA8ASFJwAAAAAAAHiCwhMAAAAAAAA8QeEJAAAAAAAAnqDwBAAAAAAAAE/4/H6/39VCn8/rswBAkeLy7bfI4HMGAAoWnzOmrKwsIxYbG2td26JFCyNmm+g0YsQIa/75559vxJYvX27EZsyYYc0fPXq0EYv09KxonxQWTVPhomn/aHmtRdNr1SnfNhnzpptuMmL16tWz5qelpRmx4cOHG7GpU6da823vYTfccIN1bV5c8QQAAAAAAABPUHgCAAAAAACAJyg8AQAAAAAAwBMUngAAAAAAAOCJuEgfAAAAAADCwdaYNyMjw7r273//uxEbOXKkERszZow1v1KlSkasU6dORmzjxo3WfFtzYVtz58LaBDnSe0VTc+5o2T/Sr5VI54dzL9t7lSQNGjTIiN16661G7N5777Xm/+UvfzFiAwcONGIJCQnW/NTUVCNGc3EAAAAAAABEDIUnAAAAAAAAeILCEwAAAAAAADxB4QkAAAAAAACeoLk4AAAAgCLB1kR579691rW25uA2jz76qDVeq1YtI/bQQw+53qdhw4ZGbNKkSUbMqQmx24bTkW6iXBB7RUtz7mjavzA23I50fjBrg3mubAMK7rrrLmt+48aNjZht6MH9999vzV+6dKkRO3jwoBGzNRGXpNWrV1vj+eGKJwAAAAAAAHiCwhMAAAAAAAA8QeEJAAAAAAAAnqDwBAAAAAAAAE9QeAIAAAAAAIAnfH6/3+9qoc/n9VkAoEhx+fZbZPA5AwAFi88Z04gRI4zY/v37rWtLlSplxBYtWmTEJk+ebM2//PLLjdiAAQOMWI0aNaz5tulTcXHmUPKhQ4da8ydMmGDEbBO1nCadFcZJYdE0FS6a9o+WqXLhzPfqubLtZZt2Wbt2bWv+qFGjjNj06dON2IMPPmjNX7FihRG79957jZjT+devX2/E1q1bZ12bF1c8AQAAAAAAwBMUngAAAAAAAOAJCk8AAAAAAADwBIUnAAAAAAAAeMLsTgcAAAAAZyFbw9xDhw5Z1yYkJBixSpUqGbFHH33Umt+qVSsjNmvWLCNWuXJla369evWMWLVq1YxYt27drPmzZ882YrazOjVctjVMDmdz8Whqzh0t+0dTc+/CmC+5f66mTJlizR8+fLgR69y5sxG78cYbrfm25uKPP/64Eevfv781/6233jJiO3fuNGJOr9WPPvrIGs8PVzwBAAAAAADAExSeAAAAAAAA4AkKTwAAAAAAAPAEhScAAAAAAAB4wuf3+/2uFvp8Xp8FAIoUl2+/RQafMwBQsPicMY0cOdKIZWVlWdfGxZlzmGbOnGnEZsyYYc2//fbbjdiwYcOMWIUKFaz5zz33nBGrX7++Ebvkkkus+T///LMRu/76642Y7TGRpEmTJhmxsWPHGrGCaNgcLc25o2n/wticO5ryU1NTrWttcVtswYIF1vxt27YZsS+++MKI2b5XJWngwIFGbN68eUZs8ODB1vyVK1casbvuusuIjR492pr/2WefubrNU3HFEwAAAAAAADxB4QkAAAAAAACeoPAEAAAAAAAAT1B4AgAAAAAAgCcoPAEAAAAAAMAT5qgGAAAAADgL2aZX5eTkuM5PSEgwYrYpU5J9qtzUqVONWMWKFa35zz77rBGrXbu2EWvVqpU1f/fu3Uasbt26RqxLly7WfNtUu1AnhTlNdSuMU+Giaf/COBUu0vnBPP5jxowxYpMnT7autU22/O2334yYbdKcJK1bt86I/fHHH0bs6quvtuY3bdrU1W3a7pMkvfrqq0bMNpXv0UcfteZ/9dVX1nh+uOIJAAAAAAAAnqDwBAAAAAAAAE9QeAIAAAAAAIAnKDwBAAAAAADAEz6/3++P9CEAAAAAAABw9uGKJwAAAAAAAHiCwhMAAAAAAAA8QeEJAAAAAAAAnqDwBAAAAAAAAE9QeAIAAAAAAIAnKDwBAAAAAADAExSeAAAAAAAA4AkKTwAAAAAAAPAEhScAAAAAAAB44v8D2E55TCHDwfYAAAAASUVORK5CYII=\n",
          "text/plain": "<Figure size 1500x500 with 3 Axes>"
         },
         "metadata": {},
         "output_type": "display_data"
        }
       ]
      }
     },
     "a8f6589a9598468d909ce0c33895388f": {
      "model_module": "@jupyter-widgets/controls",
      "model_module_version": "2.0.0",
      "model_name": "VBoxModel",
      "state": {
       "_dom_classes": [
        "widget-interact"
       ],
       "children": [
        "IPY_MODEL_e550e916114a4cfab64f74517ea2a29e",
        "IPY_MODEL_a16907d4107142c59f6a761f1dac2beb",
        "IPY_MODEL_f316a6aabf334604bdbfc84ee8b6068d",
        "IPY_MODEL_0dcd73c6a7e847d2bacd0620aa9f31d6",
        "IPY_MODEL_a7665f0870484764b071f05d476b4e9d"
       ],
       "layout": "IPY_MODEL_052f4709126349c8b497ebe08e9a3d69"
      }
     },
     "a8fba7938f3746f8a1f9c07500cb6d5e": {
      "model_module": "@jupyter-widgets/base",
      "model_module_version": "2.0.0",
      "model_name": "LayoutModel",
      "state": {}
     },
     "b61894851b0249ec9d8b82cab87b90a1": {
      "model_module": "@jupyter-widgets/controls",
      "model_module_version": "2.0.0",
      "model_name": "SliderStyleModel",
      "state": {
       "description_width": ""
      }
     },
     "b61f7ac7ca8c4e0fb037ff0a2b1cadbf": {
      "model_module": "@jupyter-widgets/controls",
      "model_module_version": "2.0.0",
      "model_name": "FloatSliderModel",
      "state": {
       "behavior": "drag-tap",
       "description": "Major Axis:",
       "layout": "IPY_MODEL_9e1136dffa3f4dd6b7832481b12e1b82",
       "max": 20,
       "min": 1,
       "style": "IPY_MODEL_df7eb1e1d71143428e4495c548c07d97",
       "value": 5
      }
     },
     "d257f4877feb4021977ff465ed71cda2": {
      "model_module": "@jupyter-widgets/controls",
      "model_module_version": "2.0.0",
      "model_name": "FloatSliderModel",
      "state": {
       "behavior": "drag-tap",
       "description": "Minor Axis:",
       "layout": "IPY_MODEL_a8fba7938f3746f8a1f9c07500cb6d5e",
       "max": 20,
       "min": 1,
       "style": "IPY_MODEL_b61894851b0249ec9d8b82cab87b90a1",
       "value": 5
      }
     },
     "de2d6d9af23846e8835711e1c2cc0124": {
      "model_module": "@jupyter-widgets/controls",
      "model_module_version": "2.0.0",
      "model_name": "CheckboxStyleModel",
      "state": {
       "description_width": ""
      }
     },
     "df7eb1e1d71143428e4495c548c07d97": {
      "model_module": "@jupyter-widgets/controls",
      "model_module_version": "2.0.0",
      "model_name": "SliderStyleModel",
      "state": {
       "description_width": ""
      }
     },
     "e0503bf7b28d4670ad074c6a25495197": {
      "model_module": "@jupyter-widgets/base",
      "model_module_version": "2.0.0",
      "model_name": "LayoutModel",
      "state": {
       "height": "400px"
      }
     },
     "e0d6bb73b5564a488d88a9f3ef37429d": {
      "model_module": "@jupyter-widgets/base",
      "model_module_version": "2.0.0",
      "model_name": "LayoutModel",
      "state": {}
     },
     "e550e916114a4cfab64f74517ea2a29e": {
      "model_module": "@jupyter-widgets/controls",
      "model_module_version": "2.0.0",
      "model_name": "FloatSliderModel",
      "state": {
       "behavior": "drag-tap",
       "description": "Angle (°):",
       "layout": "IPY_MODEL_8d8b3b63fd044fbd95431e690177b40e",
       "max": 180,
       "style": "IPY_MODEL_29aeaf099cf343acbf2ad276013dc947"
      }
     },
     "ef69611eece943b4a4a12a12bfb43ccc": {
      "model_module": "@jupyter-widgets/controls",
      "model_module_version": "2.0.0",
      "model_name": "CheckboxModel",
      "state": {
       "description": "Save as SVG",
       "disabled": false,
       "layout": "IPY_MODEL_a3b8204f01714a668bf8b9f62b0adc0e",
       "style": "IPY_MODEL_de2d6d9af23846e8835711e1c2cc0124",
       "value": true
      }
     },
     "f316a6aabf334604bdbfc84ee8b6068d": {
      "model_module": "@jupyter-widgets/controls",
      "model_module_version": "2.0.0",
      "model_name": "FloatSliderModel",
      "state": {
       "behavior": "drag-tap",
       "description": "Minor Axis:",
       "layout": "IPY_MODEL_98dac7ef6de74164828168501c356e75",
       "max": 20,
       "min": 1,
       "style": "IPY_MODEL_625680ae60c24e7a86d6ce2d76db93b5",
       "value": 5
      }
     }
    },
    "version_major": 2,
    "version_minor": 0
   }
  }
 },
 "nbformat": 4,
 "nbformat_minor": 5
}
